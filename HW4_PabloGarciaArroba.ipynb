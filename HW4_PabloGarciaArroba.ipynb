{
  "nbformat": 4,
  "nbformat_minor": 0,
  "metadata": {
    "colab": {
      "provenance": [],
      "collapsed_sections": [
        "nAq-5fJCxkXj",
        "ofGOUEhQ8K3T",
        "xE39scMTALtw",
        "U6xFrqdhW_OC",
        "rRF5x2hnyQsI",
        "IxGeF-MO1ep4",
        "agFkE9M11kzs",
        "ADLCcuj8TMCg",
        "te2l0I8PTqAu",
        "szzSe1pyUQtU"
      ]
    },
    "kernelspec": {
      "name": "python3",
      "display_name": "Python 3"
    },
    "language_info": {
      "name": "python"
    }
  },
  "cells": [
    {
      "cell_type": "markdown",
      "source": [
        "# **1. Data Issues - Data Cleaning**"
      ],
      "metadata": {
        "id": "GHIjR9EFRSB5"
      }
    },
    {
      "cell_type": "markdown",
      "source": [
        "## 1.1 Import pandas, numpy, scipy and read both datasets"
      ],
      "metadata": {
        "id": "OtCZNC_4YYsT"
      }
    },
    {
      "cell_type": "code",
      "execution_count": 1,
      "metadata": {
        "id": "--XPL0w9QfKp"
      },
      "outputs": [],
      "source": [
        "import pandas as pd\n",
        "import numpy as np\n",
        "import scipy as sp\n",
        "import matplotlib.pyplot as plt\n",
        "import seaborn as sns"
      ]
    },
    {
      "cell_type": "code",
      "source": [
        "dataMax = pd.read_csv(\"/content/Dataset Generation (Max) (Responses) - Form Responses 1.csv\")\n",
        "dataFardina = pd.read_csv(\"/content/Dataset Generation (Fardina) (Responses) - Form Responses 1.csv\")"
      ],
      "metadata": {
        "id": "Eo6JHXJsRol2"
      },
      "execution_count": 2,
      "outputs": []
    },
    {
      "cell_type": "markdown",
      "source": [
        "## 1.2 Clean Max's Dataset"
      ],
      "metadata": {
        "id": "R5lrE4fM5Ibn"
      }
    },
    {
      "cell_type": "markdown",
      "source": [
        "I will start by looking at missing data and incorrect data in order to merge both databases and have one unique \"clean\" database."
      ],
      "metadata": {
        "id": "xSKHFWydPAAa"
      }
    },
    {
      "cell_type": "markdown",
      "source": [
        "### **DATA ISSUE 1:** Clear the responses that are empty and delete them."
      ],
      "metadata": {
        "id": "nAq-5fJCxkXj"
      }
    },
    {
      "cell_type": "markdown",
      "source": [
        "Why? Because they do not contribute any meaningful information to my analysis. It doesn't matter what type of question I am going to try to answer or what variables will be involved in responding them but empty rows will be completely useless.\n",
        "\n",
        "Removing these empty rows forms part of the data cleaning process and removing irrelevant data from the dataset."
      ],
      "metadata": {
        "id": "68bK9yj_Pf7Q"
      }
    },
    {
      "cell_type": "code",
      "source": [
        "dataMax = dataMax[(dataMax['Timestamp'] != \"8/15/2023 16:21:17\") & (dataMax['Timestamp'] != \"10/19/2023 11:52:10\")]"
      ],
      "metadata": {
        "id": "0DC1gGxLxiPZ"
      },
      "execution_count": 3,
      "outputs": []
    },
    {
      "cell_type": "markdown",
      "source": [
        "###**DATA ISSUE 2:** Eliminate row with student that is 50+ years old and is not a Freshman/sophomore/Junior/Senior."
      ],
      "metadata": {
        "id": "ofGOUEhQ8K3T"
      }
    },
    {
      "cell_type": "markdown",
      "source": [
        "Why? Because, as before, since it did not answer any questions, his information is irrelevant to this analysis. Also, if we wanted to check the distribution of age of students, +50 would likely be an outlier, which would negatively affect statistical data and misrepresent the population of the student's actual mean."
      ],
      "metadata": {
        "id": "un1zZix3Pi6I"
      }
    },
    {
      "cell_type": "markdown",
      "source": [
        "\n",
        "*   Check column \"What year are you\n",
        "\n"
      ],
      "metadata": {
        "id": "RXrlLFGU7wrc"
      }
    },
    {
      "cell_type": "code",
      "source": [
        "# What year are you?\n",
        "dataMax['What year are you?']\n",
        "nan_count = dataMax['What year are you?'].isna().sum()\n",
        "print(nan_count)"
      ],
      "metadata": {
        "id": "S3DA48bdSl3Q",
        "colab": {
          "base_uri": "https://localhost:8080/"
        },
        "outputId": "cfd847a3-db4c-4b86-fd84-243003422c8f"
      },
      "execution_count": 4,
      "outputs": [
        {
          "output_type": "stream",
          "name": "stdout",
          "text": [
            "0\n"
          ]
        }
      ]
    },
    {
      "cell_type": "code",
      "source": [
        "dataMax[(dataMax['What year are you?'] == \"Other\") & (dataMax['How old are you?'] == \"50+\")]\n",
        "dataMax = dataMax.drop(85)"
      ],
      "metadata": {
        "id": "ZW8zp-IP-VRy"
      },
      "execution_count": 5,
      "outputs": []
    },
    {
      "cell_type": "markdown",
      "source": [
        "Why? Irrelevant information."
      ],
      "metadata": {
        "id": "_OCBmMr9pOO6"
      }
    },
    {
      "cell_type": "code",
      "source": [
        "dataMax.loc[dataMax[\"My girlfriend is a doctor. Lately she's been complaining about pain in her right knee and constantly taking TONS of ibuprofen to treat (like 15-20 pills a day). However, it's only gotten worse. I've told her she needs to see someone about it but she told me it was fine. So I told her that if this is how she treats herself, I'd be concerned about being her patient. She was shocked and told me that was uncalled for. Am I a jerk?\"].isnull(), \"My girlfriend is a doctor. Lately she's been complaining about pain in her right knee and constantly taking TONS of ibuprofen to treat (like 15-20 pills a day). However, it's only gotten worse. I've told her she needs to see someone about it but she told me it was fine. So I told her that if this is how she treats herself, I'd be concerned about being her patient. She was shocked and told me that was uncalled for. Am I a jerk?\"]\n",
        "dataMax = dataMax.drop(63)"
      ],
      "metadata": {
        "id": "T0bMbApPpW-P"
      },
      "execution_count": 6,
      "outputs": []
    },
    {
      "cell_type": "markdown",
      "source": [
        "###**DATA ISSUE 3**: Missing random data. Filling missing values."
      ],
      "metadata": {
        "id": "xE39scMTALtw"
      }
    },
    {
      "cell_type": "markdown",
      "source": [
        "\n",
        "Using mode imputation."
      ],
      "metadata": {
        "id": "sxJ-An8JPzMX"
      }
    },
    {
      "cell_type": "code",
      "source": [
        "dataMax[dataMax['What year are you?'] == \"Senior\"]['How old are you?'].hist()\n",
        "mode_age_senior = dataMax[dataMax['What year are you?'] == \"Senior\"]['How old are you?'].mode().iloc[0]\n",
        "print(\"The mode is: {}\".format(mode_age_senior))"
      ],
      "metadata": {
        "colab": {
          "base_uri": "https://localhost:8080/",
          "height": 447
        },
        "id": "SaqfKmKpCMse",
        "outputId": "a8aab448-c54b-46e6-8bfd-cdf9177a331d"
      },
      "execution_count": 7,
      "outputs": [
        {
          "output_type": "stream",
          "name": "stdout",
          "text": [
            "The mode is: 21\n"
          ]
        },
        {
          "output_type": "display_data",
          "data": {
            "text/plain": [
              "<Figure size 640x480 with 1 Axes>"
            ],
            "image/png": "[encoded data removed]"
          },
          "metadata": {}
        }
      ]
    },
    {
      "cell_type": "code",
      "source": [
        "# How old are you?\n",
        "dataMax['How old are you?']\n",
        "nan_count = dataMax['How old are you?'].isna().sum()\n",
        "print(nan_count)"
      ],
      "metadata": {
        "colab": {
          "base_uri": "https://localhost:8080/"
        },
        "id": "pXxvW1meDbdA",
        "outputId": "7fc820f0-b8d0-41af-ff22-6befc38f7791"
      },
      "execution_count": 8,
      "outputs": [
        {
          "output_type": "stream",
          "name": "stdout",
          "text": [
            "1\n"
          ]
        }
      ]
    },
    {
      "cell_type": "code",
      "source": [
        "dataMax.loc[(dataMax['What year are you?'] == \"Senior\") & (dataMax['How old are you?'].isnull()), 'How old are you?'] = 21"
      ],
      "metadata": {
        "id": "849Q3KZ5DoEH"
      },
      "execution_count": 9,
      "outputs": []
    },
    {
      "cell_type": "code",
      "source": [
        "# Timestamp\n",
        "dataMax['Timestamp']\n",
        "nan_count = dataMax['Timestamp'].isna().sum()\n",
        "print(nan_count)"
      ],
      "metadata": {
        "colab": {
          "base_uri": "https://localhost:8080/"
        },
        "id": "W2f2jd6XnAB3",
        "outputId": "5726f4e2-6cda-4264-d411-40f04d2d51b9"
      },
      "execution_count": 10,
      "outputs": [
        {
          "output_type": "stream",
          "name": "stdout",
          "text": [
            "0\n"
          ]
        }
      ]
    },
    {
      "cell_type": "code",
      "source": [
        "# What year are you?\n",
        "dataMax['What year are you?']\n",
        "nan_count = dataMax['What year are you?'].isna().sum()\n",
        "print(nan_count)"
      ],
      "metadata": {
        "colab": {
          "base_uri": "https://localhost:8080/"
        },
        "id": "O2Nf73xPnHcq",
        "outputId": "b6397e4f-4e99-4535-8da4-ec504ad4b35c"
      },
      "execution_count": 11,
      "outputs": [
        {
          "output_type": "stream",
          "name": "stdout",
          "text": [
            "0\n"
          ]
        }
      ]
    },
    {
      "cell_type": "code",
      "source": [
        "# How old are you?\n",
        "dataMax['How old are you?']\n",
        "nan_count = dataMax['How old are you?'].isna().sum()\n",
        "print(nan_count)"
      ],
      "metadata": {
        "colab": {
          "base_uri": "https://localhost:8080/"
        },
        "id": "X5AZ9xoQnMfQ",
        "outputId": "1ec590c5-c4aa-4507-8f30-ba742cdd83b0"
      },
      "execution_count": 12,
      "outputs": [
        {
          "output_type": "stream",
          "name": "stdout",
          "text": [
            "0\n"
          ]
        }
      ]
    },
    {
      "cell_type": "code",
      "source": [
        "# You could describe the adults you grew up with as...\n",
        "dataMax['You could describe the adults you grew up with as...']\n",
        "nan_count = dataMax['You could describe the adults you grew up with as...'].isna().sum()\n",
        "print(nan_count)"
      ],
      "metadata": {
        "colab": {
          "base_uri": "https://localhost:8080/"
        },
        "id": "CK4J3X2wnSHa",
        "outputId": "3cca2759-01a8-4258-81e0-d63ad24fbb4e"
      },
      "execution_count": 13,
      "outputs": [
        {
          "output_type": "stream",
          "name": "stdout",
          "text": [
            "0\n"
          ]
        }
      ]
    },
    {
      "cell_type": "code",
      "source": [
        "# You could describe yourself as...\n",
        "dataMax['You could describe yourself as...']\n",
        "nan_count = dataMax['You could describe yourself as...'].isna().sum()\n",
        "print(nan_count)"
      ],
      "metadata": {
        "colab": {
          "base_uri": "https://localhost:8080/"
        },
        "id": "XVuaQEJxncb0",
        "outputId": "7256eea8-5732-4609-807c-a4eaab098f35"
      },
      "execution_count": 14,
      "outputs": [
        {
          "output_type": "stream",
          "name": "stdout",
          "text": [
            "0\n"
          ]
        }
      ]
    },
    {
      "cell_type": "code",
      "source": [
        "# How would you rate your religiousness / spirituality?\n",
        "dataMax['How would you rate your religiousness / spirituality?']\n",
        "nan_count = dataMax['How would you rate your religiousness / spirituality?'].isna().sum()\n",
        "print(nan_count)"
      ],
      "metadata": {
        "colab": {
          "base_uri": "https://localhost:8080/"
        },
        "id": "srsf46vwnupE",
        "outputId": "78021c65-1b88-4e2d-c1d2-f4849195fc0b"
      },
      "execution_count": 15,
      "outputs": [
        {
          "output_type": "stream",
          "name": "stdout",
          "text": [
            "0\n"
          ]
        }
      ]
    },
    {
      "cell_type": "code",
      "source": [
        "# What bests represents your gender?\n",
        "dataMax['What bests represents your gender?']\n",
        "nan_count = dataMax['What bests represents your gender?'].isna().sum()\n",
        "print(nan_count)"
      ],
      "metadata": {
        "colab": {
          "base_uri": "https://localhost:8080/"
        },
        "id": "ssYwkVVSn1S0",
        "outputId": "c0b6efa8-910d-4100-c900-3d9fd4d03350"
      },
      "execution_count": 16,
      "outputs": [
        {
          "output_type": "stream",
          "name": "stdout",
          "text": [
            "0\n"
          ]
        }
      ]
    },
    {
      "cell_type": "code",
      "source": [
        "# My girlfriend is a doctor. Lately she's been complaining about pain in her right knee and constantly taking TONS of ibuprofen to treat (like 15-20 pills a day). However, it's only gotten worse. I've told her she needs to see someone about it but she told me it was fine. So I told her that if this is how she treats herself, I'd be concerned about being her patient. She was shocked and told me that was uncalled for. Am I a jerk?\n",
        "dataMax[\"My girlfriend is a doctor. Lately she's been complaining about pain in her right knee and constantly taking TONS of ibuprofen to treat (like 15-20 pills a day). However, it's only gotten worse. I've told her she needs to see someone about it but she told me it was fine. So I told her that if this is how she treats herself, I'd be concerned about being her patient. She was shocked and told me that was uncalled for. Am I a jerk?\"]\n",
        "nan_count = dataMax[\"My girlfriend is a doctor. Lately she's been complaining about pain in her right knee and constantly taking TONS of ibuprofen to treat (like 15-20 pills a day). However, it's only gotten worse. I've told her she needs to see someone about it but she told me it was fine. So I told her that if this is how she treats herself, I'd be concerned about being her patient. She was shocked and told me that was uncalled for. Am I a jerk?\"].isna().sum()\n",
        "print(nan_count)"
      ],
      "metadata": {
        "colab": {
          "base_uri": "https://localhost:8080/"
        },
        "id": "UjzFD-lxn8QS",
        "outputId": "725877e9-fcc5-46cc-88e0-878f85b791dc"
      },
      "execution_count": 17,
      "outputs": [
        {
          "output_type": "stream",
          "name": "stdout",
          "text": [
            "0\n"
          ]
        }
      ]
    },
    {
      "cell_type": "code",
      "source": [
        "# My daughter is getting married soon. I only learned about her a few years ago. We've been building a relationship the last few years though and I am lucky to have her in my life now. Recently, she asked me to walk her down the aisle and while I am honored I told her no. Her step-dad practically raised her from a baby and I think that he deserves it far more than me. She was really upset and hurt when I said no. Am I a jerk?\n",
        "dataMax[\"My daughter is getting married soon. I only learned about her a few years ago. We've been building a relationship the last few years though and I am lucky to have her in my life now. Recently, she asked me to walk her down the aisle and while I am honored I told her no. Her step-dad practically raised her from a baby and I think that he deserves it far more than me. She was really upset and hurt when I said no. Am I a jerk?\"]\n",
        "nan_count = dataMax[\"My daughter is getting married soon. I only learned about her a few years ago. We've been building a relationship the last few years though and I am lucky to have her in my life now. Recently, she asked me to walk her down the aisle and while I am honored I told her no. Her step-dad practically raised her from a baby and I think that he deserves it far more than me. She was really upset and hurt when I said no. Am I a jerk?\"].isna().sum()\n",
        "print(nan_count)"
      ],
      "metadata": {
        "colab": {
          "base_uri": "https://localhost:8080/"
        },
        "id": "Vfr15JMdqDFU",
        "outputId": "734725c8-c250-4bad-e08d-f14e79729ef9"
      },
      "execution_count": 18,
      "outputs": [
        {
          "output_type": "stream",
          "name": "stdout",
          "text": [
            "0\n"
          ]
        }
      ]
    },
    {
      "cell_type": "code",
      "source": [
        "# I'm a trust fund kid; I get a healthy 'allowance' from my parents, but I mostly sock it away since I don't really feel like I deserve it. I live with my girlfriend, who comes from a poor family, and we split things 50-50. Recently, she found out how much money my parents send me each month and freaked out, saying it wasn't fair that I was making her split things 50/50. I told her it was my money, and it only seems fair if we cover half the expenses. Am I a jerk?\n",
        "dataMax[\"I'm a trust fund kid; I get a healthy 'allowance' from my parents, but I mostly sock it away since I don't really feel like I deserve it. I live with my girlfriend, who comes from a poor family, and we split things 50-50. Recently, she found out how much money my parents send me each month and freaked out, saying it wasn't fair that I was making her split things 50/50. I told her it was my money, and it only seems fair if we cover half the expenses. Am I a jerk?\"]\n",
        "nan_count = dataMax[\"I'm a trust fund kid; I get a healthy 'allowance' from my parents, but I mostly sock it away since I don't really feel like I deserve it. I live with my girlfriend, who comes from a poor family, and we split things 50-50. Recently, she found out how much money my parents send me each month and freaked out, saying it wasn't fair that I was making her split things 50/50. I told her it was my money, and it only seems fair if we cover half the expenses. Am I a jerk?\"].isna().sum()\n",
        "print(nan_count)"
      ],
      "metadata": {
        "colab": {
          "base_uri": "https://localhost:8080/"
        },
        "id": "5tpQ7K6qrsQf",
        "outputId": "3326e3a6-ce60-4272-d6e0-edd291a6210f"
      },
      "execution_count": 19,
      "outputs": [
        {
          "output_type": "stream",
          "name": "stdout",
          "text": [
            "1\n"
          ]
        }
      ]
    },
    {
      "cell_type": "code",
      "source": [
        "mode_for_current_question = dataMax[(dataMax[\"You could describe yourself as...\"] == \"Mildly liberal\") & (dataMax[\"How would you rate your religiousness / spirituality?\"] == \"Somewhat spiritual\")][\"I'm a trust fund kid; I get a healthy 'allowance' from my parents, but I mostly sock it away since I don't really feel like I deserve it. I live with my girlfriend, who comes from a poor family, and we split things 50-50. Recently, she found out how much money my parents send me each month and freaked out, saying it wasn't fair that I was making her split things 50/50. I told her it was my money, and it only seems fair if we cover half the expenses. Am I a jerk?\"].mode()\n",
        "print(mode_for_current_question)\n",
        "dataMax.loc[dataMax[\"I'm a trust fund kid; I get a healthy 'allowance' from my parents, but I mostly sock it away since I don't really feel like I deserve it. I live with my girlfriend, who comes from a poor family, and we split things 50-50. Recently, she found out how much money my parents send me each month and freaked out, saying it wasn't fair that I was making her split things 50/50. I told her it was my money, and it only seems fair if we cover half the expenses. Am I a jerk?\"].isnull(), \"I'm a trust fund kid; I get a healthy 'allowance' from my parents, but I mostly sock it away since I don't really feel like I deserve it. I live with my girlfriend, who comes from a poor family, and we split things 50-50. Recently, she found out how much money my parents send me each month and freaked out, saying it wasn't fair that I was making her split things 50/50. I told her it was my money, and it only seems fair if we cover half the expenses. Am I a jerk?\"] = \"Not a jerk\""
      ],
      "metadata": {
        "colab": {
          "base_uri": "https://localhost:8080/"
        },
        "id": "eRiT1Pt8wS9P",
        "outputId": "0061474c-250f-48e3-e5ea-8d937a9bef3a"
      },
      "execution_count": 20,
      "outputs": [
        {
          "output_type": "stream",
          "name": "stdout",
          "text": [
            "0    Not a jerk\n",
            "Name: I'm a trust fund kid; I get a healthy 'allowance' from my parents, but I mostly sock it away since I don't really feel like I deserve it. I live with my girlfriend, who comes from a poor family, and we split things 50-50. Recently, she found out how much money my parents send me each month and freaked out, saying it wasn't fair that I was making her split things 50/50. I told her it was my money, and it only seems fair if we cover half the expenses. Am I a jerk?, dtype: object\n"
          ]
        }
      ]
    },
    {
      "cell_type": "code",
      "source": [
        "# My wife and I have separate finances, but I pay for almost everything. My son starts school next year, and I'm planning on sending him to a private school. My wife's son currently goes to a much less nice public school. My wife says I'm a jerk for not paying for her daughter to go to private school as well.\n",
        "dataMax[\"My wife and I have separate finances, but I pay for almost everything. My son starts school next year, and I'm planning on sending him to a private school. My wife's son currently goes to a much less nice public school. My wife says I'm a jerk for not paying for her daughter to go to private school as well.\"]\n",
        "nan_count = dataMax[\"My wife and I have separate finances, but I pay for almost everything. My son starts school next year, and I'm planning on sending him to a private school. My wife's son currently goes to a much less nice public school. My wife says I'm a jerk for not paying for her daughter to go to private school as well.\"].isna().sum()\n",
        "print(nan_count)"
      ],
      "metadata": {
        "colab": {
          "base_uri": "https://localhost:8080/"
        },
        "id": "mnyWuUkp-H7X",
        "outputId": "b7e5fa5e-8b56-4398-cc01-cf28e7d7d6e9"
      },
      "execution_count": 21,
      "outputs": [
        {
          "output_type": "stream",
          "name": "stdout",
          "text": [
            "3\n"
          ]
        }
      ]
    },
    {
      "cell_type": "code",
      "source": [
        "mode_for_current_question = dataMax[(dataMax[\"You could describe yourself as...\"] == \"Neutral\") & (dataMax[\"How would you rate your religiousness / spirituality?\"] == \"Strongly spiritual\")][\"My wife and I have separate finances, but I pay for almost everything. My son starts school next year, and I'm planning on sending him to a private school. My wife's son currently goes to a much less nice public school. My wife says I'm a jerk for not paying for her daughter to go to private school as well.\"].mode()\n",
        "print(mode_for_current_question)\n",
        "dataMax.at[7, \"My wife and I have separate finances, but I pay for almost everything. My son starts school next year, and I'm planning on sending him to a private school. My wife's son currently goes to a much less nice public school. My wife says I'm a jerk for not paying for her daughter to go to private school as well.\"] = \"Strongly a jerk\""
      ],
      "metadata": {
        "colab": {
          "base_uri": "https://localhost:8080/"
        },
        "id": "gt8DM43c-6Al",
        "outputId": "fda96f9d-b21d-4617-fcbb-96fb0eea54b4"
      },
      "execution_count": 22,
      "outputs": [
        {
          "output_type": "stream",
          "name": "stdout",
          "text": [
            "0    Strongly a jerk\n",
            "Name: My wife and I have separate finances, but I pay for almost everything. My son starts school next year, and I'm planning on sending him to a private school. My wife's son currently goes to a much less nice public school. My wife says I'm a jerk for not paying for her daughter to go to private school as well., dtype: object\n"
          ]
        }
      ]
    },
    {
      "cell_type": "code",
      "source": [
        "mode_for_current_question = dataMax[(dataMax[\"You could describe yourself as...\"] == \"Mildly conservative\") & (dataMax[\"How would you rate your religiousness / spirituality?\"] == \"Not spiritual at all\")][\"My wife and I have separate finances, but I pay for almost everything. My son starts school next year, and I'm planning on sending him to a private school. My wife's son currently goes to a much less nice public school. My wife says I'm a jerk for not paying for her daughter to go to private school as well.\"].mode()\n",
        "print(mode_for_current_question)\n",
        "dataMax.at[50, \"My wife and I have separate finances, but I pay for almost everything. My son starts school next year, and I'm planning on sending him to a private school. My wife's son currently goes to a much less nice public school. My wife says I'm a jerk for not paying for her daughter to go to private school as well.\"] = \"Not a jerk\""
      ],
      "metadata": {
        "colab": {
          "base_uri": "https://localhost:8080/"
        },
        "id": "WBcPvRh2DG3Z",
        "outputId": "d5d1430d-69c6-425e-8c9e-607e7244c445"
      },
      "execution_count": 23,
      "outputs": [
        {
          "output_type": "stream",
          "name": "stdout",
          "text": [
            "0    Not a jerk\n",
            "Name: My wife and I have separate finances, but I pay for almost everything. My son starts school next year, and I'm planning on sending him to a private school. My wife's son currently goes to a much less nice public school. My wife says I'm a jerk for not paying for her daughter to go to private school as well., dtype: object\n"
          ]
        }
      ]
    },
    {
      "cell_type": "code",
      "source": [
        "mode_for_current_question = dataMax[(dataMax[\"You could describe yourself as...\"] == \"Mildly liberal\") & (dataMax[\"How would you rate your religiousness / spirituality?\"] == \"Not spiritual at all\")][\"My wife and I have separate finances, but I pay for almost everything. My son starts school next year, and I'm planning on sending him to a private school. My wife's son currently goes to a much less nice public school. My wife says I'm a jerk for not paying for her daughter to go to private school as well.\"].mode()\n",
        "print(mode_for_current_question)\n",
        "dataMax.at[94, \"My wife and I have separate finances, but I pay for almost everything. My son starts school next year, and I'm planning on sending him to a private school. My wife's son currently goes to a much less nice public school. My wife says I'm a jerk for not paying for her daughter to go to private school as well.\"] = \"Not a jerk\""
      ],
      "metadata": {
        "colab": {
          "base_uri": "https://localhost:8080/"
        },
        "id": "6MJNo3ViDH3G",
        "outputId": "1225536c-4801-40ea-f018-22a27f098163"
      },
      "execution_count": 24,
      "outputs": [
        {
          "output_type": "stream",
          "name": "stdout",
          "text": [
            "0    Not a jerk\n",
            "Name: My wife and I have separate finances, but I pay for almost everything. My son starts school next year, and I'm planning on sending him to a private school. My wife's son currently goes to a much less nice public school. My wife says I'm a jerk for not paying for her daughter to go to private school as well., dtype: object\n"
          ]
        }
      ]
    },
    {
      "cell_type": "code",
      "source": [
        "# I saw a poster for a lost cat advertising a 500 dollar reward. I saw the cat, tracked it down, and called the owner. When I met with them, they said there wasn't actually a reward, they had just listed one because they thought it would motivate people to find the cat. I kept the cat until they coughed up the reward money. Am I a jerk?\n",
        "dataMax[\"I saw a poster for a lost cat advertising a 500 dollar reward. I saw the cat, tracked it down, and called the owner. When I met with them, they said there wasn't actually a reward, they had just listed one because they thought it would motivate people to find the cat. I kept the cat until they coughed up the reward money. Am I a jerk?\"]\n",
        "nan_count = dataMax[\"I saw a poster for a lost cat advertising a 500 dollar reward. I saw the cat, tracked it down, and called the owner. When I met with them, they said there wasn't actually a reward, they had just listed one because they thought it would motivate people to find the cat. I kept the cat until they coughed up the reward money. Am I a jerk?\"].isna().sum()\n",
        "print(nan_count)"
      ],
      "metadata": {
        "colab": {
          "base_uri": "https://localhost:8080/"
        },
        "id": "2SxMW1OYFlCA",
        "outputId": "eb829927-b407-4fd5-9a36-07821648ed21"
      },
      "execution_count": 25,
      "outputs": [
        {
          "output_type": "stream",
          "name": "stdout",
          "text": [
            "1\n"
          ]
        }
      ]
    },
    {
      "cell_type": "code",
      "source": [
        "mode_for_current_question = dataMax[(dataMax[\"You could describe yourself as...\"] == \"Mildly liberal\") & (dataMax[\"How would you rate your religiousness / spirituality?\"] == \"Somewhat spiritual\")][\"I saw a poster for a lost cat advertising a 500 dollar reward. I saw the cat, tracked it down, and called the owner. When I met with them, they said there wasn't actually a reward, they had just listed one because they thought it would motivate people to find the cat. I kept the cat until they coughed up the reward money. Am I a jerk?\"].mode()\n",
        "print(mode_for_current_question)\n",
        "dataMax.at[56, \"I saw a poster for a lost cat advertising a 500 dollar reward. I saw the cat, tracked it down, and called the owner. When I met with them, they said there wasn't actually a reward, they had just listed one because they thought it would motivate people to find the cat. I kept the cat until they coughed up the reward money. Am I a jerk?\"] = \"Not a jerk\""
      ],
      "metadata": {
        "colab": {
          "base_uri": "https://localhost:8080/"
        },
        "id": "AT99It4pFzq5",
        "outputId": "5adc3c8b-d033-4d6b-cd6b-761be9b03b50"
      },
      "execution_count": 26,
      "outputs": [
        {
          "output_type": "stream",
          "name": "stdout",
          "text": [
            "0    Not a jerk\n",
            "Name: I saw a poster for a lost cat advertising a 500 dollar reward. I saw the cat, tracked it down, and called the owner. When I met with them, they said there wasn't actually a reward, they had just listed one because they thought it would motivate people to find the cat. I kept the cat until they coughed up the reward money. Am I a jerk?, dtype: object\n"
          ]
        }
      ]
    },
    {
      "cell_type": "code",
      "source": [
        "# My sister's nine year old daughter is poorly behaved. One day, my sister dropped the daughter off on my doorstep without my consent and drove off, texting me that she needed me to watch her daughter for the day. The daughter complained of being hungry, so I gave her the leftovers I had. She said she didn't like them, but I told her that's all there was. She put them in the microwave until they burned, then told me she couldn't eat them and we would have to go out and get food. I told her that was what there was to eat, and if she ruined it she'd have to wait for her mom to get back. Later, everyone yelled at me for 'starving' a child. Am I a jerk?\n",
        "dataMax[\"My sister's nine year old daughter is poorly behaved. One day, my sister dropped the daughter off on my doorstep without my consent and drove off, texting me that she needed me to watch her daughter for the day. The daughter complained of being hungry, so I gave her the leftovers I had. She said she didn't like them, but I told her that's all there was. She put them in the microwave until they burned, then told me she couldn't eat them and we would have to go out and get food. I told her that was what there was to eat, and if she ruined it she'd have to wait for her mom to get back. Later, everyone yelled at me for 'starving' a child. Am I a jerk?\"]\n",
        "nan_count = dataMax[\"My sister's nine year old daughter is poorly behaved. One day, my sister dropped the daughter off on my doorstep without my consent and drove off, texting me that she needed me to watch her daughter for the day. The daughter complained of being hungry, so I gave her the leftovers I had. She said she didn't like them, but I told her that's all there was. She put them in the microwave until they burned, then told me she couldn't eat them and we would have to go out and get food. I told her that was what there was to eat, and if she ruined it she'd have to wait for her mom to get back. Later, everyone yelled at me for 'starving' a child. Am I a jerk?\"].isna().sum()\n",
        "print(nan_count)"
      ],
      "metadata": {
        "colab": {
          "base_uri": "https://localhost:8080/"
        },
        "id": "UozL3kstOsGt",
        "outputId": "605e2878-34e1-4b1d-d771-0b19ac317c26"
      },
      "execution_count": 27,
      "outputs": [
        {
          "output_type": "stream",
          "name": "stdout",
          "text": [
            "1\n"
          ]
        }
      ]
    },
    {
      "cell_type": "code",
      "source": [
        "mode_for_current_question = dataMax[(dataMax[\"You could describe the adults you grew up with as...\"] == \"Mildly liberal\") & (dataMax[\"You could describe yourself as...\"] == \"Mildly liberal\") & (dataMax[\"How would you rate your religiousness / spirituality?\"] == \"Somewhat spiritual\")][\"My sister's nine year old daughter is poorly behaved. One day, my sister dropped the daughter off on my doorstep without my consent and drove off, texting me that she needed me to watch her daughter for the day. The daughter complained of being hungry, so I gave her the leftovers I had. She said she didn't like them, but I told her that's all there was. She put them in the microwave until they burned, then told me she couldn't eat them and we would have to go out and get food. I told her that was what there was to eat, and if she ruined it she'd have to wait for her mom to get back. Later, everyone yelled at me for 'starving' a child. Am I a jerk?\"].mode()\n",
        "print(mode_for_current_question)\n",
        "dataMax.at[56, \"My sister's nine year old daughter is poorly behaved. One day, my sister dropped the daughter off on my doorstep without my consent and drove off, texting me that she needed me to watch her daughter for the day. The daughter complained of being hungry, so I gave her the leftovers I had. She said she didn't like them, but I told her that's all there was. She put them in the microwave until they burned, then told me she couldn't eat them and we would have to go out and get food. I told her that was what there was to eat, and if she ruined it she'd have to wait for her mom to get back. Later, everyone yelled at me for 'starving' a child. Am I a jerk?\"] = \"Not a jerk\""
      ],
      "metadata": {
        "colab": {
          "base_uri": "https://localhost:8080/"
        },
        "id": "TvU-M6y1PdKi",
        "outputId": "c5711438-5d4c-49ff-f1c8-ca428cba5c90"
      },
      "execution_count": 28,
      "outputs": [
        {
          "output_type": "stream",
          "name": "stdout",
          "text": [
            "0    Not a jerk\n",
            "Name: My sister's nine year old daughter is poorly behaved. One day, my sister dropped the daughter off on my doorstep without my consent and drove off, texting me that she needed me to watch her daughter for the day. The daughter complained of being hungry, so I gave her the leftovers I had. She said she didn't like them, but I told her that's all there was. She put them in the microwave until they burned, then told me she couldn't eat them and we would have to go out and get food. I told her that was what there was to eat, and if she ruined it she'd have to wait for her mom to get back. Later, everyone yelled at me for 'starving' a child. Am I a jerk?, dtype: object\n"
          ]
        }
      ]
    },
    {
      "cell_type": "code",
      "source": [
        "# 'My parents want us to come out for their anniversary, and bought my sister and I tickets on the same flight. My sister has two kids - a 6 month old and a 5 year old. She is currently separated from her husband so she would have to handle 2 children by herself on a 10 hour flight.\\n\\nShe calls me up a week or so beforehand and asks me if I will be willing to help her take care of her kids on the flight, and something about taking shifts so we can both sleep. I tell her that I wasn't comfortable with that, but she says \"nephew loves you so much\" so we can work something out on the flight and hangs up.\\n\\nWhen I got to the airport, I chose to upgrade my seat so I could sit by myself and didn't mention it until we were on the plane. My family freaked and told me I abandoned my sister. Am I a jerk?'\n",
        "dataMax[\"My parents want us to come out for their anniversary, and bought my sister and I tickets on the same flight. My sister has two kids - a 6 month old and a 5 year old. She is currently separated from her husband so she would have to handle 2 children by herself on a 10 hour flight.\\n\\nShe calls me up a week or so beforehand and asks me if I will be willing to help her take care of her kids on the flight, and something about taking shifts so we can both sleep. I tell her that I wasn't comfortable with that, but she says \\\"nephew loves you so much\\\" so we can work something out on the flight and hangs up.\\n\\nWhen I got to the airport, I chose to upgrade my seat so I could sit by myself and didn't mention it until we were on the plane. My family freaked and told me I abandoned my sister. Am I a jerk?\"]\n",
        "nan_count = dataMax[\"My parents want us to come out for their anniversary, and bought my sister and I tickets on the same flight. My sister has two kids - a 6 month old and a 5 year old. She is currently separated from her husband so she would have to handle 2 children by herself on a 10 hour flight.\\n\\nShe calls me up a week or so beforehand and asks me if I will be willing to help her take care of her kids on the flight, and something about taking shifts so we can both sleep. I tell her that I wasn't comfortable with that, but she says \\\"nephew loves you so much\\\" so we can work something out on the flight and hangs up.\\n\\nWhen I got to the airport, I chose to upgrade my seat so I could sit by myself and didn't mention it until we were on the plane. My family freaked and told me I abandoned my sister. Am I a jerk?\"].isna().sum()\n",
        "print(nan_count)"
      ],
      "metadata": {
        "colab": {
          "base_uri": "https://localhost:8080/"
        },
        "id": "zGhY3tbZShcH",
        "outputId": "8d856391-9947-486a-c955-09aeb16eda4b"
      },
      "execution_count": 29,
      "outputs": [
        {
          "output_type": "stream",
          "name": "stdout",
          "text": [
            "2\n"
          ]
        }
      ]
    },
    {
      "cell_type": "code",
      "source": [
        "mode_for_current_question = dataMax[(dataMax[\"You could describe the adults you grew up with as...\"] == \"Mildly liberal\") & (dataMax[\"You could describe yourself as...\"] == \"Mildly liberal\") & (dataMax[\"How would you rate your religiousness / spirituality?\"] == \"Somewhat spiritual\")][\"My parents want us to come out for their anniversary, and bought my sister and I tickets on the same flight. My sister has two kids - a 6 month old and a 5 year old. She is currently separated from her husband so she would have to handle 2 children by herself on a 10 hour flight.\\n\\nShe calls me up a week or so beforehand and asks me if I will be willing to help her take care of her kids on the flight, and something about taking shifts so we can both sleep. I tell her that I wasn't comfortable with that, but she says \\\"nephew loves you so much\\\" so we can work something out on the flight and hangs up.\\n\\nWhen I got to the airport, I chose to upgrade my seat so I could sit by myself and didn't mention it until we were on the plane. My family freaked and told me I abandoned my sister. Am I a jerk?\"].mode()\n",
        "print(mode_for_current_question)\n",
        "dataMax.at[56, \"My parents want us to come out for their anniversary, and bought my sister and I tickets on the same flight. My sister has two kids - a 6 month old and a 5 year old. She is currently separated from her husband so she would have to handle 2 children by herself on a 10 hour flight.\\n\\nShe calls me up a week or so beforehand and asks me if I will be willing to help her take care of her kids on the flight, and something about taking shifts so we can both sleep. I tell her that I wasn't comfortable with that, but she says \\\"nephew loves you so much\\\" so we can work something out on the flight and hangs up.\\n\\nWhen I got to the airport, I chose to upgrade my seat so I could sit by myself and didn't mention it until we were on the plane. My family freaked and told me I abandoned my sister. Am I a jerk?\"] = \"Strongly a jerk\""
      ],
      "metadata": {
        "colab": {
          "base_uri": "https://localhost:8080/"
        },
        "id": "woIQzPNGUiLf",
        "outputId": "f7fed23a-1314-4706-a8aa-2c257ad42aaf"
      },
      "execution_count": 30,
      "outputs": [
        {
          "output_type": "stream",
          "name": "stdout",
          "text": [
            "0    Strongly a jerk\n",
            "Name: My parents want us to come out for their anniversary, and bought my sister and I tickets on the same flight. My sister has two kids - a 6 month old and a 5 year old. She is currently separated from her husband so she would have to handle 2 children by herself on a 10 hour flight.\\n\\nShe calls me up a week or so beforehand and asks me if I will be willing to help her take care of her kids on the flight, and something about taking shifts so we can both sleep. I tell her that I wasn't comfortable with that, but she says \"nephew loves you so much\" so we can work something out on the flight and hangs up.\\n\\nWhen I got to the airport, I chose to upgrade my seat so I could sit by myself and didn't mention it until we were on the plane. My family freaked and told me I abandoned my sister. Am I a jerk?, dtype: object\n"
          ]
        }
      ]
    },
    {
      "cell_type": "code",
      "source": [
        "mode_for_current_question = dataMax[(dataMax[\"You could describe yourself as...\"] == \"Neutral\") & (dataMax[\"How would you rate your religiousness / spirituality?\"] == \"Not spiritual at all\")][\"My parents want us to come out for their anniversary, and bought my sister and I tickets on the same flight. My sister has two kids - a 6 month old and a 5 year old. She is currently separated from her husband so she would have to handle 2 children by herself on a 10 hour flight.\\n\\nShe calls me up a week or so beforehand and asks me if I will be willing to help her take care of her kids on the flight, and something about taking shifts so we can both sleep. I tell her that I wasn't comfortable with that, but she says \\\"nephew loves you so much\\\" so we can work something out on the flight and hangs up.\\n\\nWhen I got to the airport, I chose to upgrade my seat so I could sit by myself and didn't mention it until we were on the plane. My family freaked and told me I abandoned my sister. Am I a jerk?\"].mode()\n",
        "print(mode_for_current_question)\n",
        "dataMax.at[77, \"My parents want us to come out for their anniversary, and bought my sister and I tickets on the same flight. My sister has two kids - a 6 month old and a 5 year old. She is currently separated from her husband so she would have to handle 2 children by herself on a 10 hour flight.\\n\\nShe calls me up a week or so beforehand and asks me if I will be willing to help her take care of her kids on the flight, and something about taking shifts so we can both sleep. I tell her that I wasn't comfortable with that, but she says \\\"nephew loves you so much\\\" so we can work something out on the flight and hangs up.\\n\\nWhen I got to the airport, I chose to upgrade my seat so I could sit by myself and didn't mention it until we were on the plane. My family freaked and told me I abandoned my sister. Am I a jerk?\"] = \"Mildly a jerk\""
      ],
      "metadata": {
        "colab": {
          "base_uri": "https://localhost:8080/"
        },
        "id": "HP8VnCrFVp5X",
        "outputId": "f81c68e2-a774-4efd-f896-d2f05947e5a3"
      },
      "execution_count": 31,
      "outputs": [
        {
          "output_type": "stream",
          "name": "stdout",
          "text": [
            "0    Mildly a jerk\n",
            "Name: My parents want us to come out for their anniversary, and bought my sister and I tickets on the same flight. My sister has two kids - a 6 month old and a 5 year old. She is currently separated from her husband so she would have to handle 2 children by herself on a 10 hour flight.\\n\\nShe calls me up a week or so beforehand and asks me if I will be willing to help her take care of her kids on the flight, and something about taking shifts so we can both sleep. I tell her that I wasn't comfortable with that, but she says \"nephew loves you so much\" so we can work something out on the flight and hangs up.\\n\\nWhen I got to the airport, I chose to upgrade my seat so I could sit by myself and didn't mention it until we were on the plane. My family freaked and told me I abandoned my sister. Am I a jerk?, dtype: object\n"
          ]
        }
      ]
    },
    {
      "cell_type": "code",
      "source": [
        "# I'm a single mom with four kids, one of whom has a different father from the other three. I get a lot of child support for one of them, and none for the other 3. 2/3rds of the child support for the eldest go towards his expenses and college fund. The other third goes towards my other children. My friend recently found out and told me it was inappropriate to use the child support intended for the one on the other three. Am I a jerk?\n",
        "dataMax[\"I'm a single mom with four kids, one of whom has a different father from the other three. I get a lot of child support for one of them, and none for the other 3. 2/3rds of the child support for the eldest go towards his expenses and college fund. The other third goes towards my other children. My friend recently found out and told me it was inappropriate to use the child support intended for the one on the other three. Am I a jerk?\"]\n",
        "nan_count = dataMax[\"I'm a single mom with four kids, one of whom has a different father from the other three. I get a lot of child support for one of them, and none for the other 3. 2/3rds of the child support for the eldest go towards his expenses and college fund. The other third goes towards my other children. My friend recently found out and told me it was inappropriate to use the child support intended for the one on the other three. Am I a jerk?\"].isna().sum()\n",
        "print(nan_count)"
      ],
      "metadata": {
        "colab": {
          "base_uri": "https://localhost:8080/"
        },
        "id": "3zHUibapj9wt",
        "outputId": "17700f3c-ac85-4423-b32f-c4397f25af3d"
      },
      "execution_count": 32,
      "outputs": [
        {
          "output_type": "stream",
          "name": "stdout",
          "text": [
            "3\n"
          ]
        }
      ]
    },
    {
      "cell_type": "code",
      "source": [
        "mode_for_current_question = dataMax[(dataMax[\"You could describe yourself as...\"] == \"Mildly liberal\") & (dataMax[\"How would you rate your religiousness / spirituality?\"] == \"Somewhat spiritual\")][\"I'm a single mom with four kids, one of whom has a different father from the other three. I get a lot of child support for one of them, and none for the other 3. 2/3rds of the child support for the eldest go towards his expenses and college fund. The other third goes towards my other children. My friend recently found out and told me it was inappropriate to use the child support intended for the one on the other three. Am I a jerk?\"].mode()\n",
        "print(mode_for_current_question)\n",
        "dataMax.at[56, \"I'm a single mom with four kids, one of whom has a different father from the other three. I get a lot of child support for one of them, and none for the other 3. 2/3rds of the child support for the eldest go towards his expenses and college fund. The other third goes towards my other children. My friend recently found out and told me it was inappropriate to use the child support intended for the one on the other three. Am I a jerk?\"] = \"Not a jerk\""
      ],
      "metadata": {
        "colab": {
          "base_uri": "https://localhost:8080/"
        },
        "id": "WcjBMBWdkYiB",
        "outputId": "17d1a7ca-8c67-4887-a86e-8584dbe85f40"
      },
      "execution_count": 33,
      "outputs": [
        {
          "output_type": "stream",
          "name": "stdout",
          "text": [
            "0    Not a jerk\n",
            "Name: I'm a single mom with four kids, one of whom has a different father from the other three. I get a lot of child support for one of them, and none for the other 3. 2/3rds of the child support for the eldest go towards his expenses and college fund. The other third goes towards my other children. My friend recently found out and told me it was inappropriate to use the child support intended for the one on the other three. Am I a jerk?, dtype: object\n"
          ]
        }
      ]
    },
    {
      "cell_type": "code",
      "source": [
        "mode_for_current_question = dataMax[(dataMax[\"You could describe yourself as...\"] == \"Neutral\") & (dataMax[\"How would you rate your religiousness / spirituality?\"] == \"Not spiritual at all\")][\"I'm a single mom with four kids, one of whom has a different father from the other three. I get a lot of child support for one of them, and none for the other 3. 2/3rds of the child support for the eldest go towards his expenses and college fund. The other third goes towards my other children. My friend recently found out and told me it was inappropriate to use the child support intended for the one on the other three. Am I a jerk?\"].mode()\n",
        "print(mode_for_current_question)\n",
        "dataMax.at[77, \"I'm a single mom with four kids, one of whom has a different father from the other three. I get a lot of child support for one of them, and none for the other 3. 2/3rds of the child support for the eldest go towards his expenses and college fund. The other third goes towards my other children. My friend recently found out and told me it was inappropriate to use the child support intended for the one on the other three. Am I a jerk?\"] = \"Not a jerk\""
      ],
      "metadata": {
        "colab": {
          "base_uri": "https://localhost:8080/"
        },
        "id": "c6N_3DBymT0p",
        "outputId": "f9ac8319-9674-4329-8d0c-6acf82130501"
      },
      "execution_count": 34,
      "outputs": [
        {
          "output_type": "stream",
          "name": "stdout",
          "text": [
            "0    Not a jerk\n",
            "Name: I'm a single mom with four kids, one of whom has a different father from the other three. I get a lot of child support for one of them, and none for the other 3. 2/3rds of the child support for the eldest go towards his expenses and college fund. The other third goes towards my other children. My friend recently found out and told me it was inappropriate to use the child support intended for the one on the other three. Am I a jerk?, dtype: object\n"
          ]
        }
      ]
    },
    {
      "cell_type": "code",
      "source": [
        "mode_for_current_question = dataMax[(dataMax[\"You could describe yourself as...\"] == \"Strongly liberal\") & (dataMax[\"How would you rate your religiousness / spirituality?\"] == \"Not spiritual at all\")][\"I'm a single mom with four kids, one of whom has a different father from the other three. I get a lot of child support for one of them, and none for the other 3. 2/3rds of the child support for the eldest go towards his expenses and college fund. The other third goes towards my other children. My friend recently found out and told me it was inappropriate to use the child support intended for the one on the other three. Am I a jerk?\"].mode()\n",
        "print(mode_for_current_question)\n",
        "dataMax.at[88, \"I'm a single mom with four kids, one of whom has a different father from the other three. I get a lot of child support for one of them, and none for the other 3. 2/3rds of the child support for the eldest go towards his expenses and college fund. The other third goes towards my other children. My friend recently found out and told me it was inappropriate to use the child support intended for the one on the other three. Am I a jerk?\"] = \"Not a jerk\""
      ],
      "metadata": {
        "colab": {
          "base_uri": "https://localhost:8080/"
        },
        "id": "YgWnRusOm432",
        "outputId": "8ed5290b-d7fb-45b7-96d2-e8c0e606e860"
      },
      "execution_count": 35,
      "outputs": [
        {
          "output_type": "stream",
          "name": "stdout",
          "text": [
            "0    Not a jerk\n",
            "Name: I'm a single mom with four kids, one of whom has a different father from the other three. I get a lot of child support for one of them, and none for the other 3. 2/3rds of the child support for the eldest go towards his expenses and college fund. The other third goes towards my other children. My friend recently found out and told me it was inappropriate to use the child support intended for the one on the other three. Am I a jerk?, dtype: object\n"
          ]
        }
      ]
    },
    {
      "cell_type": "code",
      "source": [
        "# I have a child with a mother who never wanted anything to do with them. I make enough money to cover my expenses, but I constantly check up on the child's mother to make sure she's paying adequate child support. Periodically I either hire an investigator or her mom just tells me she got a raise and I go to court to adjust the child support accordingly. The last time I did this, she didn't show up for court and I apparently overestimated how much her raise was and I got a default judgment. She called me up and practically pleaded with me to lower her payments after I said no she insulted me and my son. Am I a jerk?\n",
        "dataMax[\"I have a child with a mother who never wanted anything to do with them. I make enough money to cover my expenses, but I constantly check up on the child's mother to make sure she's paying adequate child support. Periodically I either hire an investigator or her mom just tells me she got a raise and I go to court to adjust the child support accordingly. The last time I did this, she didn't show up for court and I apparently overestimated how much her raise was and I got a default judgment. She called me up and practically pleaded with me to lower her payments after I said no she insulted me and my son. Am I a jerk?\"]\n",
        "nan_count = dataMax[\"I have a child with a mother who never wanted anything to do with them. I make enough money to cover my expenses, but I constantly check up on the child's mother to make sure she's paying adequate child support. Periodically I either hire an investigator or her mom just tells me she got a raise and I go to court to adjust the child support accordingly. The last time I did this, she didn't show up for court and I apparently overestimated how much her raise was and I got a default judgment. She called me up and practically pleaded with me to lower her payments after I said no she insulted me and my son. Am I a jerk?\"].isna().sum()\n",
        "print(nan_count)"
      ],
      "metadata": {
        "colab": {
          "base_uri": "https://localhost:8080/"
        },
        "id": "_T9-TZOungT5",
        "outputId": "112fe3d7-084f-41cc-f7bc-4281f70388f7"
      },
      "execution_count": 36,
      "outputs": [
        {
          "output_type": "stream",
          "name": "stdout",
          "text": [
            "3\n"
          ]
        }
      ]
    },
    {
      "cell_type": "code",
      "source": [
        "mode_for_current_question = dataMax[(dataMax[\"You could describe yourself as...\"] == \"Mildly liberal\") & (dataMax[\"How would you rate your religiousness / spirituality?\"] == \"Not spiritual at all\")][\"I have a child with a mother who never wanted anything to do with them. I make enough money to cover my expenses, but I constantly check up on the child's mother to make sure she's paying adequate child support. Periodically I either hire an investigator or her mom just tells me she got a raise and I go to court to adjust the child support accordingly. The last time I did this, she didn't show up for court and I apparently overestimated how much her raise was and I got a default judgment. She called me up and practically pleaded with me to lower her payments after I said no she insulted me and my son. Am I a jerk?\"].mode()\n",
        "print(mode_for_current_question)\n",
        "dataMax.at[12, \"I have a child with a mother who never wanted anything to do with them. I make enough money to cover my expenses, but I constantly check up on the child's mother to make sure she's paying adequate child support. Periodically I either hire an investigator or her mom just tells me she got a raise and I go to court to adjust the child support accordingly. The last time I did this, she didn't show up for court and I apparently overestimated how much her raise was and I got a default judgment. She called me up and practically pleaded with me to lower her payments after I said no she insulted me and my son. Am I a jerk?\"] = \"Not a jerk\""
      ],
      "metadata": {
        "colab": {
          "base_uri": "https://localhost:8080/"
        },
        "id": "le0TNSy-n8gZ",
        "outputId": "a5c3ed17-7eea-423f-cb15-d3a49e657728"
      },
      "execution_count": 37,
      "outputs": [
        {
          "output_type": "stream",
          "name": "stdout",
          "text": [
            "0    Not a jerk\n",
            "Name: I have a child with a mother who never wanted anything to do with them. I make enough money to cover my expenses, but I constantly check up on the child's mother to make sure she's paying adequate child support. Periodically I either hire an investigator or her mom just tells me she got a raise and I go to court to adjust the child support accordingly. The last time I did this, she didn't show up for court and I apparently overestimated how much her raise was and I got a default judgment. She called me up and practically pleaded with me to lower her payments after I said no she insulted me and my son. Am I a jerk?, dtype: object\n"
          ]
        }
      ]
    },
    {
      "cell_type": "code",
      "source": [
        "mode_for_current_question = dataMax[(dataMax[\"You could describe yourself as...\"] == \"Mildly conservative\") & (dataMax[\"How would you rate your religiousness / spirituality?\"] == \"Not spiritual at all\")][\"I have a child with a mother who never wanted anything to do with them. I make enough money to cover my expenses, but I constantly check up on the child's mother to make sure she's paying adequate child support. Periodically I either hire an investigator or her mom just tells me she got a raise and I go to court to adjust the child support accordingly. The last time I did this, she didn't show up for court and I apparently overestimated how much her raise was and I got a default judgment. She called me up and practically pleaded with me to lower her payments after I said no she insulted me and my son. Am I a jerk?\"].mode()\n",
        "print(mode_for_current_question)\n",
        "dataMax.at[50, \"I have a child with a mother who never wanted anything to do with them. I make enough money to cover my expenses, but I constantly check up on the child's mother to make sure she's paying adequate child support. Periodically I either hire an investigator or her mom just tells me she got a raise and I go to court to adjust the child support accordingly. The last time I did this, she didn't show up for court and I apparently overestimated how much her raise was and I got a default judgment. She called me up and practically pleaded with me to lower her payments after I said no she insulted me and my son. Am I a jerk?\"] = \"Not a jerk\""
      ],
      "metadata": {
        "colab": {
          "base_uri": "https://localhost:8080/"
        },
        "id": "CPwCUFDiojVP",
        "outputId": "c4b2f6da-f554-4c5f-c52c-38dcd067a217"
      },
      "execution_count": 38,
      "outputs": [
        {
          "output_type": "stream",
          "name": "stdout",
          "text": [
            "0    Not a jerk\n",
            "Name: I have a child with a mother who never wanted anything to do with them. I make enough money to cover my expenses, but I constantly check up on the child's mother to make sure she's paying adequate child support. Periodically I either hire an investigator or her mom just tells me she got a raise and I go to court to adjust the child support accordingly. The last time I did this, she didn't show up for court and I apparently overestimated how much her raise was and I got a default judgment. She called me up and practically pleaded with me to lower her payments after I said no she insulted me and my son. Am I a jerk?, dtype: object\n"
          ]
        }
      ]
    },
    {
      "cell_type": "code",
      "source": [
        "mode_for_current_question = dataMax[(dataMax[\"You could describe yourself as...\"] == \"Mildly liberal\") & (dataMax[\"How would you rate your religiousness / spirituality?\"] == \"Somewhat spiritual\")][\"I have a child with a mother who never wanted anything to do with them. I make enough money to cover my expenses, but I constantly check up on the child's mother to make sure she's paying adequate child support. Periodically I either hire an investigator or her mom just tells me she got a raise and I go to court to adjust the child support accordingly. The last time I did this, she didn't show up for court and I apparently overestimated how much her raise was and I got a default judgment. She called me up and practically pleaded with me to lower her payments after I said no she insulted me and my son. Am I a jerk?\"].mode()\n",
        "print(mode_for_current_question)\n",
        "dataMax.at[56, \"I have a child with a mother who never wanted anything to do with them. I make enough money to cover my expenses, but I constantly check up on the child's mother to make sure she's paying adequate child support. Periodically I either hire an investigator or her mom just tells me she got a raise and I go to court to adjust the child support accordingly. The last time I did this, she didn't show up for court and I apparently overestimated how much her raise was and I got a default judgment. She called me up and practically pleaded with me to lower her payments after I said no she insulted me and my son. Am I a jerk?\"] = \"Not a jerk\""
      ],
      "metadata": {
        "colab": {
          "base_uri": "https://localhost:8080/"
        },
        "id": "Jlqv1WgFo8UG",
        "outputId": "00971b72-58ae-4b74-8f32-20ebc14db548"
      },
      "execution_count": 39,
      "outputs": [
        {
          "output_type": "stream",
          "name": "stdout",
          "text": [
            "0    Not a jerk\n",
            "Name: I have a child with a mother who never wanted anything to do with them. I make enough money to cover my expenses, but I constantly check up on the child's mother to make sure she's paying adequate child support. Periodically I either hire an investigator or her mom just tells me she got a raise and I go to court to adjust the child support accordingly. The last time I did this, she didn't show up for court and I apparently overestimated how much her raise was and I got a default judgment. She called me up and practically pleaded with me to lower her payments after I said no she insulted me and my son. Am I a jerk?, dtype: object\n"
          ]
        }
      ]
    },
    {
      "cell_type": "code",
      "source": [
        "# One of my children wants to go to an expensive school to become a dentist. I told them I'd be fine paying for it. The other one wants to go to a similarly expensive school to become a teacher. I told her that I wouldn't pay for her schooling unless she picked a career path that will make at least 100,000 a year. Am I a jerk?\n",
        "dataMax[\"One of my children wants to go to an expensive school to become a dentist. I told them I'd be fine paying for it. The other one wants to go to a similarly expensive school to become a teacher. I told her that I wouldn't pay for her schooling unless she picked a career path that will make at least 100,000 a year. Am I a jerk?\"]\n",
        "nan_count = dataMax[\"One of my children wants to go to an expensive school to become a dentist. I told them I'd be fine paying for it. The other one wants to go to a similarly expensive school to become a teacher. I told her that I wouldn't pay for her schooling unless she picked a career path that will make at least 100,000 a year. Am I a jerk?\"].isna().sum()\n",
        "print(nan_count)"
      ],
      "metadata": {
        "colab": {
          "base_uri": "https://localhost:8080/"
        },
        "id": "Wx-rmJHfpj_X",
        "outputId": "69b22e90-a430-415c-efbf-8710ee66a6b0"
      },
      "execution_count": 40,
      "outputs": [
        {
          "output_type": "stream",
          "name": "stdout",
          "text": [
            "1\n"
          ]
        }
      ]
    },
    {
      "cell_type": "code",
      "source": [
        "mode_for_current_question = dataMax[(dataMax[\"You could describe yourself as...\"] == \"Mildly liberal\") & (dataMax[\"How would you rate your religiousness / spirituality?\"] == \"Somewhat spiritual\")][\"One of my children wants to go to an expensive school to become a dentist. I told them I'd be fine paying for it. The other one wants to go to a similarly expensive school to become a teacher. I told her that I wouldn't pay for her schooling unless she picked a career path that will make at least 100,000 a year. Am I a jerk?\"].mode()\n",
        "print(mode_for_current_question)\n",
        "dataMax.at[56, \"One of my children wants to go to an expensive school to become a dentist. I told them I'd be fine paying for it. The other one wants to go to a similarly expensive school to become a teacher. I told her that I wouldn't pay for her schooling unless she picked a career path that will make at least 100,000 a year. Am I a jerk?\"] = \"Mildly a jerk\""
      ],
      "metadata": {
        "colab": {
          "base_uri": "https://localhost:8080/"
        },
        "id": "7El2LwFtpvfO",
        "outputId": "c037ad76-251d-4748-d70e-7749a2b73774"
      },
      "execution_count": 41,
      "outputs": [
        {
          "output_type": "stream",
          "name": "stdout",
          "text": [
            "0    Mildly a jerk\n",
            "Name: One of my children wants to go to an expensive school to become a dentist. I told them I'd be fine paying for it. The other one wants to go to a similarly expensive school to become a teacher. I told her that I wouldn't pay for her schooling unless she picked a career path that will make at least 100,000 a year. Am I a jerk?, dtype: object\n"
          ]
        }
      ]
    },
    {
      "cell_type": "code",
      "source": [
        "# I was in a conflict with my mother-in-law's boyfriend, in which I made a snide comment about he's never paid child support to his ex. Later, he called me and told me if I ever said anything like that ever again he'd sue me for defamation. I took the threat seriously, as he is a lawyer, and uninvited him for our wedding and told my family I couldn't be around him anymore. Am I a jerk?\n",
        "dataMax[\"I was in a conflict with my mother-in-law's boyfriend, in which I made a snide comment about he's never paid child support to his ex. Later, he called me and told me if I ever said anything like that ever again he'd sue me for defamation. I took the threat seriously, as he is a lawyer, and uninvited him for our wedding and told my family I couldn't be around him anymore. Am I a jerk?\"]\n",
        "nan_count = dataMax[\"I was in a conflict with my mother-in-law's boyfriend, in which I made a snide comment about he's never paid child support to his ex. Later, he called me and told me if I ever said anything like that ever again he'd sue me for defamation. I took the threat seriously, as he is a lawyer, and uninvited him for our wedding and told my family I couldn't be around him anymore. Am I a jerk?\"].isna().sum()\n",
        "print(nan_count)"
      ],
      "metadata": {
        "colab": {
          "base_uri": "https://localhost:8080/"
        },
        "id": "9Zc_aszsqJIx",
        "outputId": "7d804704-386a-4021-eaf2-3d5a9880f8bb"
      },
      "execution_count": 42,
      "outputs": [
        {
          "output_type": "stream",
          "name": "stdout",
          "text": [
            "3\n"
          ]
        }
      ]
    },
    {
      "cell_type": "code",
      "source": [
        "mode_for_current_question = dataMax[(dataMax[\"You could describe yourself as...\"] == \"Mildly conservative\") & (dataMax[\"How would you rate your religiousness / spirituality?\"] == \"Not spiritual at all\")][\"I was in a conflict with my mother-in-law's boyfriend, in which I made a snide comment about he's never paid child support to his ex. Later, he called me and told me if I ever said anything like that ever again he'd sue me for defamation. I took the threat seriously, as he is a lawyer, and uninvited him for our wedding and told my family I couldn't be around him anymore. Am I a jerk?\"].mode()\n",
        "print(mode_for_current_question)\n",
        "dataMax.at[50, \"I was in a conflict with my mother-in-law's boyfriend, in which I made a snide comment about he's never paid child support to his ex. Later, he called me and told me if I ever said anything like that ever again he'd sue me for defamation. I took the threat seriously, as he is a lawyer, and uninvited him for our wedding and told my family I couldn't be around him anymore. Am I a jerk?\"] = \"Not a jerk\""
      ],
      "metadata": {
        "colab": {
          "base_uri": "https://localhost:8080/"
        },
        "id": "i8GWXFj2qSKY",
        "outputId": "0920b79a-7fca-4e77-eea3-878f26c8bb54"
      },
      "execution_count": 43,
      "outputs": [
        {
          "output_type": "stream",
          "name": "stdout",
          "text": [
            "0    Not a jerk\n",
            "Name: I was in a conflict with my mother-in-law's boyfriend, in which I made a snide comment about he's never paid child support to his ex. Later, he called me and told me if I ever said anything like that ever again he'd sue me for defamation. I took the threat seriously, as he is a lawyer, and uninvited him for our wedding and told my family I couldn't be around him anymore. Am I a jerk?, dtype: object\n"
          ]
        }
      ]
    },
    {
      "cell_type": "code",
      "source": [
        "mode_for_current_question = dataMax[(dataMax[\"You could describe the adults you grew up with as...\"] == \"Mildly liberal\") & (dataMax[\"You could describe yourself as...\"] == \"Mildly liberal\") & (dataMax[\"How would you rate your religiousness / spirituality?\"] == \"Somewhat spiritual\")][\"I was in a conflict with my mother-in-law's boyfriend, in which I made a snide comment about he's never paid child support to his ex. Later, he called me and told me if I ever said anything like that ever again he'd sue me for defamation. I took the threat seriously, as he is a lawyer, and uninvited him for our wedding and told my family I couldn't be around him anymore. Am I a jerk?\"].mode()\n",
        "print(mode_for_current_question)\n",
        "dataMax.at[56, \"I was in a conflict with my mother-in-law's boyfriend, in which I made a snide comment about he's never paid child support to his ex. Later, he called me and told me if I ever said anything like that ever again he'd sue me for defamation. I took the threat seriously, as he is a lawyer, and uninvited him for our wedding and told my family I couldn't be around him anymore. Am I a jerk?\"] = \"Not a jerk\""
      ],
      "metadata": {
        "colab": {
          "base_uri": "https://localhost:8080/"
        },
        "id": "-VczjD9yr8GE",
        "outputId": "b79061d7-279b-4118-b009-ea5cb03f4094"
      },
      "execution_count": 44,
      "outputs": [
        {
          "output_type": "stream",
          "name": "stdout",
          "text": [
            "0    Not a jerk\n",
            "Name: I was in a conflict with my mother-in-law's boyfriend, in which I made a snide comment about he's never paid child support to his ex. Later, he called me and told me if I ever said anything like that ever again he'd sue me for defamation. I took the threat seriously, as he is a lawyer, and uninvited him for our wedding and told my family I couldn't be around him anymore. Am I a jerk?, dtype: object\n"
          ]
        }
      ]
    },
    {
      "cell_type": "code",
      "source": [
        "mode_for_current_question = dataMax[(dataMax[\"You could describe yourself as...\"] == \"Mildly liberal\") & (dataMax[\"How would you rate your religiousness / spirituality?\"] == \"Somewhat spiritual\")][\"I was in a conflict with my mother-in-law's boyfriend, in which I made a snide comment about he's never paid child support to his ex. Later, he called me and told me if I ever said anything like that ever again he'd sue me for defamation. I took the threat seriously, as he is a lawyer, and uninvited him for our wedding and told my family I couldn't be around him anymore. Am I a jerk?\"].mode()\n",
        "print(mode_for_current_question)\n",
        "dataMax.at[92, \"I was in a conflict with my mother-in-law's boyfriend, in which I made a snide comment about he's never paid child support to his ex. Later, he called me and told me if I ever said anything like that ever again he'd sue me for defamation. I took the threat seriously, as he is a lawyer, and uninvited him for our wedding and told my family I couldn't be around him anymore. Am I a jerk?\"] = \"Not a jerk\""
      ],
      "metadata": {
        "colab": {
          "base_uri": "https://localhost:8080/"
        },
        "id": "J3nWlQ7HslFL",
        "outputId": "6f35b26d-fa9d-48f0-f40f-7c59858faf45"
      },
      "execution_count": 45,
      "outputs": [
        {
          "output_type": "stream",
          "name": "stdout",
          "text": [
            "0    Not a jerk\n",
            "Name: I was in a conflict with my mother-in-law's boyfriend, in which I made a snide comment about he's never paid child support to his ex. Later, he called me and told me if I ever said anything like that ever again he'd sue me for defamation. I took the threat seriously, as he is a lawyer, and uninvited him for our wedding and told my family I couldn't be around him anymore. Am I a jerk?, dtype: object\n"
          ]
        }
      ]
    },
    {
      "cell_type": "code",
      "source": [
        "# '\\nSome of my relatives refuse to come to my wedding, since they don't approve of our 'lifestyle'. I would like to donate the money I will save to an LBGTQ organization in their name. I’m hoping that I or the organization will be able to send them a receipt/thank you for the donation. Would I be a jerk?'\n",
        "dataMax[\"\\nSome of my relatives refuse to come to my wedding, since they don't approve of our 'lifestyle'. I would like to donate the money I will save to an LBGTQ organization in their name. I’m hoping that I or the organization will be able to send them a receipt/thank you for the donation. Would I be a jerk?\"]\n",
        "nan_count = dataMax[\"\\nSome of my relatives refuse to come to my wedding, since they don't approve of our 'lifestyle'. I would like to donate the money I will save to an LBGTQ organization in their name. I’m hoping that I or the organization will be able to send them a receipt/thank you for the donation. Would I be a jerk?\"].isna().sum()\n",
        "print(nan_count)"
      ],
      "metadata": {
        "colab": {
          "base_uri": "https://localhost:8080/"
        },
        "id": "gkI-JuYFtEwZ",
        "outputId": "b83f4b1a-1535-46d9-e687-ddbc1d000be8"
      },
      "execution_count": 46,
      "outputs": [
        {
          "output_type": "stream",
          "name": "stdout",
          "text": [
            "3\n"
          ]
        }
      ]
    },
    {
      "cell_type": "code",
      "source": [
        "mode_for_current_question = dataMax[(dataMax[\"What bests represents your gender?\"] == \"Male\") & (dataMax[\"You could describe the adults you grew up with as...\"] == \"Don't know / It's complicated\") & (dataMax[\"You could describe yourself as...\"] == \"Don't know / It's complicated\") & (dataMax[\"How would you rate your religiousness / spirituality?\"] == \"Strongly spiritual\")][\"\\nSome of my relatives refuse to come to my wedding, since they don't approve of our 'lifestyle'. I would like to donate the money I will save to an LBGTQ organization in their name. I’m hoping that I or the organization will be able to send them a receipt/thank you for the donation. Would I be a jerk?\"].mode()\n",
        "print(mode_for_current_question)\n",
        "dataMax.at[23, \"\\nSome of my relatives refuse to come to my wedding, since they don't approve of our 'lifestyle'. I would like to donate the money I will save to an LBGTQ organization in their name. I’m hoping that I or the organization will be able to send them a receipt/thank you for the donation. Would I be a jerk?\"] = \"Mildly a jerk\""
      ],
      "metadata": {
        "colab": {
          "base_uri": "https://localhost:8080/"
        },
        "id": "a2yT1EPHuGbF",
        "outputId": "703a0c60-c787-4270-cf91-ef667e1acf37"
      },
      "execution_count": 47,
      "outputs": [
        {
          "output_type": "stream",
          "name": "stdout",
          "text": [
            "0    Mildly a jerk\n",
            "Name: \\nSome of my relatives refuse to come to my wedding, since they don't approve of our 'lifestyle'. I would like to donate the money I will save to an LBGTQ organization in their name. I’m hoping that I or the organization will be able to send them a receipt/thank you for the donation. Would I be a jerk?, dtype: object\n"
          ]
        }
      ]
    },
    {
      "cell_type": "code",
      "source": [
        "mode_for_current_question = dataMax[(dataMax[\"You could describe yourself as...\"] == \"Strongly liberal\") & (dataMax[\"How would you rate your religiousness / spirituality?\"] == \"Not spiritual at all\")][\"\\nSome of my relatives refuse to come to my wedding, since they don't approve of our 'lifestyle'. I would like to donate the money I will save to an LBGTQ organization in their name. I’m hoping that I or the organization will be able to send them a receipt/thank you for the donation. Would I be a jerk?\"].mode()\n",
        "print(mode_for_current_question)\n",
        "dataMax.at[43, \"\\nSome of my relatives refuse to come to my wedding, since they don't approve of our 'lifestyle'. I would like to donate the money I will save to an LBGTQ organization in their name. I’m hoping that I or the organization will be able to send them a receipt/thank you for the donation. Would I be a jerk?\"] = \"Not a jerk\""
      ],
      "metadata": {
        "colab": {
          "base_uri": "https://localhost:8080/"
        },
        "id": "KSE3YbwpvI6z",
        "outputId": "4a8b34c5-0b15-493f-dda5-c6d6cb35945f"
      },
      "execution_count": 48,
      "outputs": [
        {
          "output_type": "stream",
          "name": "stdout",
          "text": [
            "0    Not a jerk\n",
            "Name: \\nSome of my relatives refuse to come to my wedding, since they don't approve of our 'lifestyle'. I would like to donate the money I will save to an LBGTQ organization in their name. I’m hoping that I or the organization will be able to send them a receipt/thank you for the donation. Would I be a jerk?, dtype: object\n"
          ]
        }
      ]
    },
    {
      "cell_type": "code",
      "source": [
        "mode_for_current_question = dataMax[(dataMax[\"You could describe yourself as...\"] == \"Mildly liberal\") & (dataMax[\"How would you rate your religiousness / spirituality?\"] == \"Somewhat spiritual\")][\"\\nSome of my relatives refuse to come to my wedding, since they don't approve of our 'lifestyle'. I would like to donate the money I will save to an LBGTQ organization in their name. I’m hoping that I or the organization will be able to send them a receipt/thank you for the donation. Would I be a jerk?\"].mode()\n",
        "print(mode_for_current_question)\n",
        "dataMax.at[56, \"\\nSome of my relatives refuse to come to my wedding, since they don't approve of our 'lifestyle'. I would like to donate the money I will save to an LBGTQ organization in their name. I’m hoping that I or the organization will be able to send them a receipt/thank you for the donation. Would I be a jerk?\"] = \"Not a jerk\""
      ],
      "metadata": {
        "colab": {
          "base_uri": "https://localhost:8080/"
        },
        "id": "ioE2-D3DvkiC",
        "outputId": "50686a7d-e9cb-4a12-d96d-bec03b0a33ae"
      },
      "execution_count": 49,
      "outputs": [
        {
          "output_type": "stream",
          "name": "stdout",
          "text": [
            "0    Not a jerk\n",
            "Name: \\nSome of my relatives refuse to come to my wedding, since they don't approve of our 'lifestyle'. I would like to donate the money I will save to an LBGTQ organization in their name. I’m hoping that I or the organization will be able to send them a receipt/thank you for the donation. Would I be a jerk?, dtype: object\n"
          ]
        }
      ]
    },
    {
      "cell_type": "code",
      "source": [
        "# My wife has decided that since she can’t drink because she is pregnant that I can’t either. I planned to take my annual leave from work to take us (and pay for) a trip abroad. I asked my wife would the drinking rule still be in effect and she said of course. I’ve now decided I won’t be paying for us to take this trip. Am I a jerk?\n",
        "dataMax[\"My wife has decided that since she can’t drink because she is pregnant that I can’t either. I planned to take my annual leave from work to take us (and pay for) a trip abroad. I asked my wife would the drinking rule still be in effect and she said of course. I’ve now decided I won’t be paying for us to take this trip. Am I a jerk?\"]\n",
        "nan_count = dataMax[\"My wife has decided that since she can’t drink because she is pregnant that I can’t either. I planned to take my annual leave from work to take us (and pay for) a trip abroad. I asked my wife would the drinking rule still be in effect and she said of course. I’ve now decided I won’t be paying for us to take this trip. Am I a jerk?\"].isna().sum()\n",
        "print(nan_count)"
      ],
      "metadata": {
        "colab": {
          "base_uri": "https://localhost:8080/"
        },
        "id": "L7zbfjJZv05x",
        "outputId": "4521dbee-89e1-4030-f594-d4a22d587640"
      },
      "execution_count": 50,
      "outputs": [
        {
          "output_type": "stream",
          "name": "stdout",
          "text": [
            "1\n"
          ]
        }
      ]
    },
    {
      "cell_type": "code",
      "source": [
        "mode_for_current_question = dataMax[(dataMax[\"You could describe yourself as...\"] == \"Mildly liberal\") & (dataMax[\"How would you rate your religiousness / spirituality?\"] == \"Somewhat spiritual\")][\"My wife has decided that since she can’t drink because she is pregnant that I can’t either. I planned to take my annual leave from work to take us (and pay for) a trip abroad. I asked my wife would the drinking rule still be in effect and she said of course. I’ve now decided I won’t be paying for us to take this trip. Am I a jerk?\"].mode()\n",
        "print(mode_for_current_question)\n",
        "dataMax.at[56, \"My wife has decided that since she can’t drink because she is pregnant that I can’t either. I planned to take my annual leave from work to take us (and pay for) a trip abroad. I asked my wife would the drinking rule still be in effect and she said of course. I’ve now decided I won’t be paying for us to take this trip. Am I a jerk?\"] = \"Mildly a jerk\""
      ],
      "metadata": {
        "colab": {
          "base_uri": "https://localhost:8080/"
        },
        "id": "Y5-IzIw8wCU3",
        "outputId": "cf1f6fc3-1a2a-482c-87da-f1f919aaffd1"
      },
      "execution_count": 51,
      "outputs": [
        {
          "output_type": "stream",
          "name": "stdout",
          "text": [
            "0    Mildly a jerk\n",
            "Name: My wife has decided that since she can’t drink because she is pregnant that I can’t either. I planned to take my annual leave from work to take us (and pay for) a trip abroad. I asked my wife would the drinking rule still be in effect and she said of course. I’ve now decided I won’t be paying for us to take this trip. Am I a jerk?, dtype: object\n"
          ]
        }
      ]
    },
    {
      "cell_type": "code",
      "source": [
        "# My sister is going to be a bridesmaid at my wedding. Her hair was dyed, but she recently decided to grow it out, so parts of it are bleached and part are not. I told her it wouldn't look good in the pictures, and offered to pay for her to dye it. She said no, and I said she couldn't be in the wedding party. Am I a jerk?\n",
        "dataMax[\"My sister is going to be a bridesmaid at my wedding. Her hair was dyed, but she recently decided to grow it out, so parts of it are bleached and part are not. I told her it wouldn't look good in the pictures, and offered to pay for her to dye it. She said no, and I said she couldn't be in the wedding party. Am I a jerk?\"]\n",
        "nan_count = dataMax[\"My sister is going to be a bridesmaid at my wedding. Her hair was dyed, but she recently decided to grow it out, so parts of it are bleached and part are not. I told her it wouldn't look good in the pictures, and offered to pay for her to dye it. She said no, and I said she couldn't be in the wedding party. Am I a jerk?\"].isna().sum()\n",
        "print(nan_count)"
      ],
      "metadata": {
        "colab": {
          "base_uri": "https://localhost:8080/"
        },
        "id": "J7Z2yawTwady",
        "outputId": "f2b89d60-531f-4cf8-814e-bf16cf8ff6e7"
      },
      "execution_count": 52,
      "outputs": [
        {
          "output_type": "stream",
          "name": "stdout",
          "text": [
            "2\n"
          ]
        }
      ]
    },
    {
      "cell_type": "code",
      "source": [
        "mode_for_current_question = dataMax[(dataMax[\"You could describe yourself as...\"] == \"Mildly conservative\") & (dataMax[\"How would you rate your religiousness / spirituality?\"] == \"Not spiritual at all\")][\"My sister is going to be a bridesmaid at my wedding. Her hair was dyed, but she recently decided to grow it out, so parts of it are bleached and part are not. I told her it wouldn't look good in the pictures, and offered to pay for her to dye it. She said no, and I said she couldn't be in the wedding party. Am I a jerk?\"].mode()\n",
        "print(mode_for_current_question)\n",
        "dataMax.at[50, \"My sister is going to be a bridesmaid at my wedding. Her hair was dyed, but she recently decided to grow it out, so parts of it are bleached and part are not. I told her it wouldn't look good in the pictures, and offered to pay for her to dye it. She said no, and I said she couldn't be in the wedding party. Am I a jerk?\"] = \"Mildly a jerk\""
      ],
      "metadata": {
        "colab": {
          "base_uri": "https://localhost:8080/"
        },
        "id": "teQdQ7jFwkp4",
        "outputId": "efc5e985-1eee-4914-8380-f111ff0b4063"
      },
      "execution_count": 53,
      "outputs": [
        {
          "output_type": "stream",
          "name": "stdout",
          "text": [
            "0    Mildly a jerk\n",
            "Name: My sister is going to be a bridesmaid at my wedding. Her hair was dyed, but she recently decided to grow it out, so parts of it are bleached and part are not. I told her it wouldn't look good in the pictures, and offered to pay for her to dye it. She said no, and I said she couldn't be in the wedding party. Am I a jerk?, dtype: object\n"
          ]
        }
      ]
    },
    {
      "cell_type": "code",
      "source": [
        "mode_for_current_question = dataMax[(dataMax[\"You could describe yourself as...\"] == \"Mildly liberal\") & (dataMax[\"How would you rate your religiousness / spirituality?\"] == \"Somewhat spiritual\")][\"My sister is going to be a bridesmaid at my wedding. Her hair was dyed, but she recently decided to grow it out, so parts of it are bleached and part are not. I told her it wouldn't look good in the pictures, and offered to pay for her to dye it. She said no, and I said she couldn't be in the wedding party. Am I a jerk?\"].mode()\n",
        "print(mode_for_current_question)\n",
        "dataMax.at[56, \"My sister is going to be a bridesmaid at my wedding. Her hair was dyed, but she recently decided to grow it out, so parts of it are bleached and part are not. I told her it wouldn't look good in the pictures, and offered to pay for her to dye it. She said no, and I said she couldn't be in the wedding party. Am I a jerk?\"] = \"Strongly a jerk\""
      ],
      "metadata": {
        "colab": {
          "base_uri": "https://localhost:8080/"
        },
        "id": "IoHPjFPTxw5G",
        "outputId": "b92ebeeb-6caf-449b-e439-df1b146684aa"
      },
      "execution_count": 54,
      "outputs": [
        {
          "output_type": "stream",
          "name": "stdout",
          "text": [
            "0    Strongly a jerk\n",
            "Name: My sister is going to be a bridesmaid at my wedding. Her hair was dyed, but she recently decided to grow it out, so parts of it are bleached and part are not. I told her it wouldn't look good in the pictures, and offered to pay for her to dye it. She said no, and I said she couldn't be in the wedding party. Am I a jerk?, dtype: object\n"
          ]
        }
      ]
    },
    {
      "cell_type": "markdown",
      "source": [
        "###**DATA ISSUE 4**: Convert the column representing the age from type object to type float64"
      ],
      "metadata": {
        "id": "U6xFrqdhW_OC"
      }
    },
    {
      "cell_type": "code",
      "source": [
        "print(dataMax['How old are you?'].dtypes)"
      ],
      "metadata": {
        "colab": {
          "base_uri": "https://localhost:8080/"
        },
        "id": "LsN-xkU_W_Z4",
        "outputId": "4540f2ec-b235-479d-8c8e-1c56c31cdf59"
      },
      "execution_count": 55,
      "outputs": [
        {
          "output_type": "stream",
          "name": "stdout",
          "text": [
            "object\n"
          ]
        }
      ]
    },
    {
      "cell_type": "code",
      "source": [
        "dataMax['How old are you?'] = dataMax['How old are you?'].astype(float)"
      ],
      "metadata": {
        "id": "NQB0ln_pX0fK"
      },
      "execution_count": 56,
      "outputs": []
    },
    {
      "cell_type": "markdown",
      "source": [
        "## 1.3 Clean Fardina's Dataset"
      ],
      "metadata": {
        "id": "rRF5x2hnyQsI"
      }
    },
    {
      "cell_type": "markdown",
      "source": [
        "###**DATA ISSUE 1:** Delete student that didnt reply to any of the answers."
      ],
      "metadata": {
        "id": "IxGeF-MO1ep4"
      }
    },
    {
      "cell_type": "code",
      "source": [
        "dataFardina[(dataFardina['Timestamp'] == \"10/19/2023 20:31:30\")]\n",
        "dataFardina = dataFardina.drop(136)"
      ],
      "metadata": {
        "id": "VHbPVGMVzhLc"
      },
      "execution_count": 57,
      "outputs": []
    },
    {
      "cell_type": "code",
      "source": [
        "dataFardina[dataFardina[\"My parents want us to come out for their anniversary, and bought my sister and I tickets on the same flight. My sister has two kids - a 6 month old and a 5 year old. She is currently separated from her husband so she would have to handle 2 children by herself on a 10 hour flight.\\n\\nShe calls me up a week or so beforehand and asks me if I will be willing to help her take care of her kids on the flight, and something about taking shifts so we can both sleep. I tell her that I wasn't comfortable with that, but she says \\\"nephew loves you so much\\\" so we can work something out on the flight and hangs up.\\n\\nWhen I got to the airport, I chose to upgrade my seat so I could sit by myself and didn't mention it until we were on the plane. My family freaked and told me I abandoned my sister. Am I a jerk?\"].isnull()]\n",
        "dataFardina = dataFardina.drop(79)\n",
        "dataFardina = dataFardina.drop(95)"
      ],
      "metadata": {
        "id": "eU6N6hAf20Wv"
      },
      "execution_count": 58,
      "outputs": []
    },
    {
      "cell_type": "markdown",
      "source": [
        "###**DATA ISSUE 3:** Imputation"
      ],
      "metadata": {
        "id": "agFkE9M11kzs"
      }
    },
    {
      "cell_type": "code",
      "source": [
        "# What year are you?\n",
        "dataFardina['What year are you?']\n",
        "nan_count = dataFardina['What year are you?'].isna().sum()\n",
        "print(nan_count)"
      ],
      "metadata": {
        "colab": {
          "base_uri": "https://localhost:8080/"
        },
        "id": "wkcGpzKQ1rMB",
        "outputId": "4f539d49-562c-4995-a54e-4ca362904ca5"
      },
      "execution_count": 59,
      "outputs": [
        {
          "output_type": "stream",
          "name": "stdout",
          "text": [
            "0\n"
          ]
        }
      ]
    },
    {
      "cell_type": "code",
      "source": [
        "# How old are you?\n",
        "dataFardina['How old are you?']\n",
        "nan_count = dataFardina['How old are you?'].isna().sum()\n",
        "print(nan_count)"
      ],
      "metadata": {
        "colab": {
          "base_uri": "https://localhost:8080/"
        },
        "id": "eDH1dlza102E",
        "outputId": "c43fb8d3-8684-43b5-dcd0-dc4ee8b47272"
      },
      "execution_count": 60,
      "outputs": [
        {
          "output_type": "stream",
          "name": "stdout",
          "text": [
            "0\n"
          ]
        }
      ]
    },
    {
      "cell_type": "code",
      "source": [
        "# You could describe the adults you grew up with as...\n",
        "dataFardina['You could describe the adults you grew up with as...']\n",
        "nan_count = dataFardina['You could describe the adults you grew up with as...'].isna().sum()\n",
        "print(nan_count)"
      ],
      "metadata": {
        "colab": {
          "base_uri": "https://localhost:8080/"
        },
        "id": "vvm5lxHA2IyD",
        "outputId": "188e396b-5065-4a5f-e47a-f86272470374"
      },
      "execution_count": 61,
      "outputs": [
        {
          "output_type": "stream",
          "name": "stdout",
          "text": [
            "0\n"
          ]
        }
      ]
    },
    {
      "cell_type": "code",
      "source": [
        "# I'm a trust fund kid; I get a healthy 'allowance' from my parents, but I mostly sock it away since I don't really feel like I deserve it. I live with my girlfriend, who comes from a poor family, and we split things 50-50. Recently, she found out how much money my parents send me each month and freaked out, saying it wasn't fair that I was making her split things 50/50. I told her it was my money, and it only seems fair if we cover half the expenses. Am I a jerk?\n",
        "dataFardina[\"I'm a trust fund kid; I get a healthy 'allowance' from my parents, but I mostly sock it away since I don't really feel like I deserve it. I live with my girlfriend, who comes from a poor family, and we split things 50-50. Recently, she found out how much money my parents send me each month and freaked out, saying it wasn't fair that I was making her split things 50/50. I told her it was my money, and it only seems fair if we cover half the expenses. Am I a jerk?\"]\n",
        "nan_count = dataFardina[\"I'm a trust fund kid; I get a healthy 'allowance' from my parents, but I mostly sock it away since I don't really feel like I deserve it. I live with my girlfriend, who comes from a poor family, and we split things 50-50. Recently, she found out how much money my parents send me each month and freaked out, saying it wasn't fair that I was making her split things 50/50. I told her it was my money, and it only seems fair if we cover half the expenses. Am I a jerk?\"].isna().sum()\n",
        "print(nan_count)"
      ],
      "metadata": {
        "colab": {
          "base_uri": "https://localhost:8080/"
        },
        "id": "5aUUGRl42M64",
        "outputId": "70b223db-d722-445e-b70b-d6d2e4764ed0"
      },
      "execution_count": 62,
      "outputs": [
        {
          "output_type": "stream",
          "name": "stdout",
          "text": [
            "1\n"
          ]
        }
      ]
    },
    {
      "cell_type": "code",
      "source": [
        "mode_for_current_question = dataFardina[(dataFardina[\"You could describe yourself as...\"] == \"Strongly liberal\") & (dataFardina[\"How would you rate your religiousness / spirituality?\"] == \"Not spiritual at all\")][\"I'm a trust fund kid; I get a healthy 'allowance' from my parents, but I mostly sock it away since I don't really feel like I deserve it. I live with my girlfriend, who comes from a poor family, and we split things 50-50. Recently, she found out how much money my parents send me each month and freaked out, saying it wasn't fair that I was making her split things 50/50. I told her it was my money, and it only seems fair if we cover half the expenses. Am I a jerk?\"].mode()\n",
        "print(mode_for_current_question)\n",
        "dataFardina.at[4, \"I'm a trust fund kid; I get a healthy 'allowance' from my parents, but I mostly sock it away since I don't really feel like I deserve it. I live with my girlfriend, who comes from a poor family, and we split things 50-50. Recently, she found out how much money my parents send me each month and freaked out, saying it wasn't fair that I was making her split things 50/50. I told her it was my money, and it only seems fair if we cover half the expenses. Am I a jerk?\"] = \"Mildly a jerk\""
      ],
      "metadata": {
        "colab": {
          "base_uri": "https://localhost:8080/"
        },
        "id": "XVY0FSwU_JeY",
        "outputId": "4f82ec16-ec09-4de0-d0e4-7c2562c24fee"
      },
      "execution_count": 63,
      "outputs": [
        {
          "output_type": "stream",
          "name": "stdout",
          "text": [
            "0    Mildly a jerk\n",
            "Name: I'm a trust fund kid; I get a healthy 'allowance' from my parents, but I mostly sock it away since I don't really feel like I deserve it. I live with my girlfriend, who comes from a poor family, and we split things 50-50. Recently, she found out how much money my parents send me each month and freaked out, saying it wasn't fair that I was making her split things 50/50. I told her it was my money, and it only seems fair if we cover half the expenses. Am I a jerk?, dtype: object\n"
          ]
        }
      ]
    },
    {
      "cell_type": "code",
      "source": [
        "# My wife and I have separate finances, but I pay for almost everything. My son starts school next year, and I'm planning on sending him to a private school. My wife's son currently goes to a much less nice public school. My wife says I'm a jerk for not paying for her daughter to go to private school as well.\n",
        "dataFardina[\"My wife and I have separate finances, but I pay for almost everything. My son starts school next year, and I'm planning on sending him to a private school. My wife's son currently goes to a much less nice public school. My wife says I'm a jerk for not paying for her daughter to go to private school as well.\"]\n",
        "nan_count = dataFardina[\"My wife and I have separate finances, but I pay for almost everything. My son starts school next year, and I'm planning on sending him to a private school. My wife's son currently goes to a much less nice public school. My wife says I'm a jerk for not paying for her daughter to go to private school as well.\"].isna().sum()\n",
        "print(nan_count)"
      ],
      "metadata": {
        "colab": {
          "base_uri": "https://localhost:8080/"
        },
        "id": "i2KxB98sB77_",
        "outputId": "c98314cb-90b4-4cf7-9d17-5e7fcfae0c20"
      },
      "execution_count": 64,
      "outputs": [
        {
          "output_type": "stream",
          "name": "stdout",
          "text": [
            "1\n"
          ]
        }
      ]
    },
    {
      "cell_type": "code",
      "source": [
        "mode_for_current_question = dataFardina[(dataFardina[\"You could describe the adults you grew up with as...\"] == \"Mildly liberal\") & (dataFardina[\"You could describe yourself as...\"] == \"Strongly liberal\") & (dataFardina[\"How would you rate your religiousness / spirituality?\"] == \"Not spiritual at all\")][\"My wife and I have separate finances, but I pay for almost everything. My son starts school next year, and I'm planning on sending him to a private school. My wife's son currently goes to a much less nice public school. My wife says I'm a jerk for not paying for her daughter to go to private school as well.\"].mode()\n",
        "print(mode_for_current_question)\n",
        "dataFardina.at[4, \"My wife and I have separate finances, but I pay for almost everything. My son starts school next year, and I'm planning on sending him to a private school. My wife's son currently goes to a much less nice public school. My wife says I'm a jerk for not paying for her daughter to go to private school as well.\"] = \"Mildly a jerk\""
      ],
      "metadata": {
        "colab": {
          "base_uri": "https://localhost:8080/"
        },
        "id": "ILwBfYbGC_1N",
        "outputId": "af00e6d3-ae65-481c-e7c1-ed7c1610a7de"
      },
      "execution_count": 65,
      "outputs": [
        {
          "output_type": "stream",
          "name": "stdout",
          "text": [
            "0    Mildly a jerk\n",
            "Name: My wife and I have separate finances, but I pay for almost everything. My son starts school next year, and I'm planning on sending him to a private school. My wife's son currently goes to a much less nice public school. My wife says I'm a jerk for not paying for her daughter to go to private school as well., dtype: object\n"
          ]
        }
      ]
    },
    {
      "cell_type": "code",
      "source": [
        "# I saw a poster for a lost cat advertising a 500 dollar reward. I saw the cat, tracked it down, and called the owner. When I met with them, they said there wasn't actually a reward, they had just listed one because they thought it would motivate people to find the cat. I kept the cat until they coughed up the reward money. Am I a jerk?\n",
        "dataFardina[\"I saw a poster for a lost cat advertising a 500 dollar reward. I saw the cat, tracked it down, and called the owner. When I met with them, they said there wasn't actually a reward, they had just listed one because they thought it would motivate people to find the cat. I kept the cat until they coughed up the reward money. Am I a jerk?\"]\n",
        "nan_count = dataFardina[\"I saw a poster for a lost cat advertising a 500 dollar reward. I saw the cat, tracked it down, and called the owner. When I met with them, they said there wasn't actually a reward, they had just listed one because they thought it would motivate people to find the cat. I kept the cat until they coughed up the reward money. Am I a jerk?\"].isna().sum()\n",
        "print(nan_count)"
      ],
      "metadata": {
        "colab": {
          "base_uri": "https://localhost:8080/"
        },
        "id": "6NvFrvjCDykx",
        "outputId": "001e99e6-1638-47d3-9bf4-6ad3fcb8abfc"
      },
      "execution_count": 66,
      "outputs": [
        {
          "output_type": "stream",
          "name": "stdout",
          "text": [
            "0\n"
          ]
        }
      ]
    },
    {
      "cell_type": "code",
      "source": [
        "# My sister's nine year old daughter is poorly behaved. One day, my sister dropped the daughter off on my doorstep without my consent and drove off, texting me that she needed me to watch her daughter for the day. The daughter complained of being hungry, so I gave her the leftovers I had. She said she didn't like them, but I told her that's all there was. She put them in the microwave until they burned, then told me she couldn't eat them and we would have to go out and get food. I told her that was what there was to eat, and if she ruined it she'd have to wait for her mom to get back. Later, everyone yelled at me for 'starving' a child. Am I a jerk?\n",
        "dataFardina[\"My sister's nine year old daughter is poorly behaved. One day, my sister dropped the daughter off on my doorstep without my consent and drove off, texting me that she needed me to watch her daughter for the day. The daughter complained of being hungry, so I gave her the leftovers I had. She said she didn't like them, but I told her that's all there was. She put them in the microwave until they burned, then told me she couldn't eat them and we would have to go out and get food. I told her that was what there was to eat, and if she ruined it she'd have to wait for her mom to get back. Later, everyone yelled at me for 'starving' a child. Am I a jerk?\"]\n",
        "nan_count = dataFardina[\"My sister's nine year old daughter is poorly behaved. One day, my sister dropped the daughter off on my doorstep without my consent and drove off, texting me that she needed me to watch her daughter for the day. The daughter complained of being hungry, so I gave her the leftovers I had. She said she didn't like them, but I told her that's all there was. She put them in the microwave until they burned, then told me she couldn't eat them and we would have to go out and get food. I told her that was what there was to eat, and if she ruined it she'd have to wait for her mom to get back. Later, everyone yelled at me for 'starving' a child. Am I a jerk?\"].isna().sum()\n",
        "print(nan_count)"
      ],
      "metadata": {
        "colab": {
          "base_uri": "https://localhost:8080/"
        },
        "id": "fDO2S2A3D6zU",
        "outputId": "ec0c719a-c932-4086-c157-10eb54b0dcc9"
      },
      "execution_count": 67,
      "outputs": [
        {
          "output_type": "stream",
          "name": "stdout",
          "text": [
            "0\n"
          ]
        }
      ]
    },
    {
      "cell_type": "code",
      "source": [
        "# My parents want us to come out for their anniversary, and bought my sister and I tickets on the same flight. My sister has two kids - a 6 month old and a 5 year old. She is currently separated from her husband so she would have to handle 2 children by herself on a 10 hour flight.\\n\\nShe calls me up a week or so beforehand and asks me if I will be willing to help her take care of her kids on the flight, and something about taking shifts so we can both sleep. I tell her that I wasn't comfortable with that, but she says \"nephew loves you so much\" so we can work something out on the flight and hangs up.\\n\\nWhen I got to the airport, I chose to upgrade my seat so I could sit by myself and didn't mention it until we were on the plane. My family freaked and told me I abandoned my sister. Am I a jerk?\n",
        "dataFardina[\"My parents want us to come out for their anniversary, and bought my sister and I tickets on the same flight. My sister has two kids - a 6 month old and a 5 year old. She is currently separated from her husband so she would have to handle 2 children by herself on a 10 hour flight.\\n\\nShe calls me up a week or so beforehand and asks me if I will be willing to help her take care of her kids on the flight, and something about taking shifts so we can both sleep. I tell her that I wasn't comfortable with that, but she says \\\"nephew loves you so much\\\" so we can work something out on the flight and hangs up.\\n\\nWhen I got to the airport, I chose to upgrade my seat so I could sit by myself and didn't mention it until we were on the plane. My family freaked and told me I abandoned my sister. Am I a jerk?\"]\n",
        "nan_count = dataFardina[\"My parents want us to come out for their anniversary, and bought my sister and I tickets on the same flight. My sister has two kids - a 6 month old and a 5 year old. She is currently separated from her husband so she would have to handle 2 children by herself on a 10 hour flight.\\n\\nShe calls me up a week or so beforehand and asks me if I will be willing to help her take care of her kids on the flight, and something about taking shifts so we can both sleep. I tell her that I wasn't comfortable with that, but she says \\\"nephew loves you so much\\\" so we can work something out on the flight and hangs up.\\n\\nWhen I got to the airport, I chose to upgrade my seat so I could sit by myself and didn't mention it until we were on the plane. My family freaked and told me I abandoned my sister. Am I a jerk?\"].isna().sum()\n",
        "print(nan_count)"
      ],
      "metadata": {
        "colab": {
          "base_uri": "https://localhost:8080/"
        },
        "id": "9BtJRki_E9dO",
        "outputId": "f569222b-83a6-43c4-92d2-496d3207f663"
      },
      "execution_count": 68,
      "outputs": [
        {
          "output_type": "stream",
          "name": "stdout",
          "text": [
            "0\n"
          ]
        }
      ]
    },
    {
      "cell_type": "code",
      "source": [
        "# I'm a single mom with four kids, one of whom has a different father from the other three. I get a lot of child support for one of them, and none for the other 3. 2/3rds of the child support for the eldest go towards his expenses and college fund. The other third goes towards my other children. My friend recently found out and told me it was inappropriate to use the child support intended for the one on the other three. Am I a jerk?\n",
        "dataFardina[\"I'm a single mom with four kids, one of whom has a different father from the other three. I get a lot of child support for one of them, and none for the other 3. 2/3rds of the child support for the eldest go towards his expenses and college fund. The other third goes towards my other children. My friend recently found out and told me it was inappropriate to use the child support intended for the one on the other three. Am I a jerk?\"]\n",
        "nan_count = dataFardina[\"I'm a single mom with four kids, one of whom has a different father from the other three. I get a lot of child support for one of them, and none for the other 3. 2/3rds of the child support for the eldest go towards his expenses and college fund. The other third goes towards my other children. My friend recently found out and told me it was inappropriate to use the child support intended for the one on the other three. Am I a jerk?\"].isna().sum()\n",
        "print(nan_count)"
      ],
      "metadata": {
        "colab": {
          "base_uri": "https://localhost:8080/"
        },
        "id": "_bMAdOYCFX5z",
        "outputId": "07c96720-3966-4e6b-9ce3-8d920c564815"
      },
      "execution_count": 69,
      "outputs": [
        {
          "output_type": "stream",
          "name": "stdout",
          "text": [
            "1\n"
          ]
        }
      ]
    },
    {
      "cell_type": "code",
      "source": [
        "mode_for_current_question = dataFardina[(dataFardina[\"You could describe yourself as...\"] == \"Strongly liberal\") & (dataFardina[\"How would you rate your religiousness / spirituality?\"] == \"Not spiritual at all\")][\"I'm a single mom with four kids, one of whom has a different father from the other three. I get a lot of child support for one of them, and none for the other 3. 2/3rds of the child support for the eldest go towards his expenses and college fund. The other third goes towards my other children. My friend recently found out and told me it was inappropriate to use the child support intended for the one on the other three. Am I a jerk?\"].mode()\n",
        "print(mode_for_current_question)\n",
        "dataFardina.at[4, \"I'm a single mom with four kids, one of whom has a different father from the other three. I get a lot of child support for one of them, and none for the other 3. 2/3rds of the child support for the eldest go towards his expenses and college fund. The other third goes towards my other children. My friend recently found out and told me it was inappropriate to use the child support intended for the one on the other three. Am I a jerk?\"] = \"Not a jerk\""
      ],
      "metadata": {
        "colab": {
          "base_uri": "https://localhost:8080/"
        },
        "id": "C8dv30PQI-_P",
        "outputId": "7ed40838-340b-4fec-a962-2225f445fbd9"
      },
      "execution_count": 70,
      "outputs": [
        {
          "output_type": "stream",
          "name": "stdout",
          "text": [
            "0    Not a jerk\n",
            "Name: I'm a single mom with four kids, one of whom has a different father from the other three. I get a lot of child support for one of them, and none for the other 3. 2/3rds of the child support for the eldest go towards his expenses and college fund. The other third goes towards my other children. My friend recently found out and told me it was inappropriate to use the child support intended for the one on the other three. Am I a jerk?, dtype: object\n"
          ]
        }
      ]
    },
    {
      "cell_type": "code",
      "source": [
        "# I have a child with a mother who never wanted anything to do with them. I make enough money to cover my expenses, but I constantly check up on the child's mother to make sure she's paying adequate child support. Periodically I either hire an investigator or her mom just tells me she got a raise and I go to court to adjust the child support accordingly. The last time I did this, she didn't show up for court and I apparently overestimated how much her raise was and I got a default judgment. She called me up and practically pleaded with me to lower her payments after I said no she insulted me and my son. Am I a jerk?\n",
        "dataFardina[\"I have a child with a mother who never wanted anything to do with them. I make enough money to cover my expenses, but I constantly check up on the child's mother to make sure she's paying adequate child support. Periodically I either hire an investigator or her mom just tells me she got a raise and I go to court to adjust the child support accordingly. The last time I did this, she didn't show up for court and I apparently overestimated how much her raise was and I got a default judgment. She called me up and practically pleaded with me to lower her payments after I said no she insulted me and my son. Am I a jerk?\"]\n",
        "nan_count = dataFardina[\"I have a child with a mother who never wanted anything to do with them. I make enough money to cover my expenses, but I constantly check up on the child's mother to make sure she's paying adequate child support. Periodically I either hire an investigator or her mom just tells me she got a raise and I go to court to adjust the child support accordingly. The last time I did this, she didn't show up for court and I apparently overestimated how much her raise was and I got a default judgment. She called me up and practically pleaded with me to lower her payments after I said no she insulted me and my son. Am I a jerk?\"].isna().sum()\n",
        "print(nan_count)"
      ],
      "metadata": {
        "colab": {
          "base_uri": "https://localhost:8080/"
        },
        "id": "uQjRRyktJgv9",
        "outputId": "46d40fea-9387-4a8f-982c-33a9a36b078b"
      },
      "execution_count": 71,
      "outputs": [
        {
          "output_type": "stream",
          "name": "stdout",
          "text": [
            "2\n"
          ]
        }
      ]
    },
    {
      "cell_type": "code",
      "source": [
        "mode_for_current_question = dataFardina[(dataFardina[\"You could describe yourself as...\"] == \"Strongly liberal\") & (dataFardina[\"How would you rate your religiousness / spirituality?\"] == \"Not spiritual at all\")][\"I have a child with a mother who never wanted anything to do with them. I make enough money to cover my expenses, but I constantly check up on the child's mother to make sure she's paying adequate child support. Periodically I either hire an investigator or her mom just tells me she got a raise and I go to court to adjust the child support accordingly. The last time I did this, she didn't show up for court and I apparently overestimated how much her raise was and I got a default judgment. She called me up and practically pleaded with me to lower her payments after I said no she insulted me and my son. Am I a jerk?\"].mode()\n",
        "print(mode_for_current_question)\n",
        "dataFardina.at[4, \"I have a child with a mother who never wanted anything to do with them. I make enough money to cover my expenses, but I constantly check up on the child's mother to make sure she's paying adequate child support. Periodically I either hire an investigator or her mom just tells me she got a raise and I go to court to adjust the child support accordingly. The last time I did this, she didn't show up for court and I apparently overestimated how much her raise was and I got a default judgment. She called me up and practically pleaded with me to lower her payments after I said no she insulted me and my son. Am I a jerk?\"] = \"Mildly a jerk\""
      ],
      "metadata": {
        "colab": {
          "base_uri": "https://localhost:8080/"
        },
        "id": "9EFqYC4xJtX1",
        "outputId": "d01400da-2552-4173-e895-764212666021"
      },
      "execution_count": 72,
      "outputs": [
        {
          "output_type": "stream",
          "name": "stdout",
          "text": [
            "0    Mildly a jerk\n",
            "Name: I have a child with a mother who never wanted anything to do with them. I make enough money to cover my expenses, but I constantly check up on the child's mother to make sure she's paying adequate child support. Periodically I either hire an investigator or her mom just tells me she got a raise and I go to court to adjust the child support accordingly. The last time I did this, she didn't show up for court and I apparently overestimated how much her raise was and I got a default judgment. She called me up and practically pleaded with me to lower her payments after I said no she insulted me and my son. Am I a jerk?, dtype: object\n"
          ]
        }
      ]
    },
    {
      "cell_type": "code",
      "source": [
        "mode_for_current_question = dataFardina[(dataFardina[\"Would you describe yourself as compassionate?\"] == \"Yes\") & (dataFardina[\"You could describe yourself as...\"] == \"Mildly liberal\") & (dataFardina[\"How would you rate your religiousness / spirituality?\"] == \"Not spiritual at all\")][\"I have a child with a mother who never wanted anything to do with them. I make enough money to cover my expenses, but I constantly check up on the child's mother to make sure she's paying adequate child support. Periodically I either hire an investigator or her mom just tells me she got a raise and I go to court to adjust the child support accordingly. The last time I did this, she didn't show up for court and I apparently overestimated how much her raise was and I got a default judgment. She called me up and practically pleaded with me to lower her payments after I said no she insulted me and my son. Am I a jerk?\"].mode()\n",
        "print(mode_for_current_question)\n",
        "dataFardina.at[124, \"I have a child with a mother who never wanted anything to do with them. I make enough money to cover my expenses, but I constantly check up on the child's mother to make sure she's paying adequate child support. Periodically I either hire an investigator or her mom just tells me she got a raise and I go to court to adjust the child support accordingly. The last time I did this, she didn't show up for court and I apparently overestimated how much her raise was and I got a default judgment. She called me up and practically pleaded with me to lower her payments after I said no she insulted me and my son. Am I a jerk?\"] = \"Not a jerk\""
      ],
      "metadata": {
        "colab": {
          "base_uri": "https://localhost:8080/"
        },
        "id": "zBM8v_KVKAEB",
        "outputId": "7164db71-6dd2-4828-9c08-14083448b602"
      },
      "execution_count": 73,
      "outputs": [
        {
          "output_type": "stream",
          "name": "stdout",
          "text": [
            "0    Not a jerk\n",
            "Name: I have a child with a mother who never wanted anything to do with them. I make enough money to cover my expenses, but I constantly check up on the child's mother to make sure she's paying adequate child support. Periodically I either hire an investigator or her mom just tells me she got a raise and I go to court to adjust the child support accordingly. The last time I did this, she didn't show up for court and I apparently overestimated how much her raise was and I got a default judgment. She called me up and practically pleaded with me to lower her payments after I said no she insulted me and my son. Am I a jerk?, dtype: object\n"
          ]
        }
      ]
    },
    {
      "cell_type": "code",
      "source": [
        "# I was in a conflict with my mother-in-law's boyfriend, in which I made a snide comment about he's never paid child support to his ex. Later, he called me and told me if I ever said anything like that ever again he'd sue me for defamation. I took the threat seriously, as he is a lawyer, and uninvited him for our wedding and told my family I couldn't be around him anymore. Am I a jerk?\n",
        "dataFardina[\"I was in a conflict with my mother-in-law's boyfriend, in which I made a snide comment about he's never paid child support to his ex. Later, he called me and told me if I ever said anything like that ever again he'd sue me for defamation. I took the threat seriously, as he is a lawyer, and uninvited him for our wedding and told my family I couldn't be around him anymore. Am I a jerk?\"]\n",
        "nan_count = dataFardina[\"I was in a conflict with my mother-in-law's boyfriend, in which I made a snide comment about he's never paid child support to his ex. Later, he called me and told me if I ever said anything like that ever again he'd sue me for defamation. I took the threat seriously, as he is a lawyer, and uninvited him for our wedding and told my family I couldn't be around him anymore. Am I a jerk?\"].isna().sum()\n",
        "print(nan_count)"
      ],
      "metadata": {
        "colab": {
          "base_uri": "https://localhost:8080/"
        },
        "id": "sj6e-vjlKyrv",
        "outputId": "77188309-d7a7-4ddf-ac1f-090341cf4017"
      },
      "execution_count": 74,
      "outputs": [
        {
          "output_type": "stream",
          "name": "stdout",
          "text": [
            "1\n"
          ]
        }
      ]
    },
    {
      "cell_type": "code",
      "source": [
        "mode_for_current_question = dataFardina[(dataFardina[\"Would you describe yourself as compassionate?\"] == \"Yes\") & (dataFardina[\"You could describe yourself as...\"] == \"Mildly conservative\") & (dataFardina[\"How would you rate your religiousness / spirituality?\"] == \"Not spiritual at all\")][\"I was in a conflict with my mother-in-law's boyfriend, in which I made a snide comment about he's never paid child support to his ex. Later, he called me and told me if I ever said anything like that ever again he'd sue me for defamation. I took the threat seriously, as he is a lawyer, and uninvited him for our wedding and told my family I couldn't be around him anymore. Am I a jerk?\"].mode()\n",
        "print(mode_for_current_question)\n",
        "dataFardina.at[87, \"I was in a conflict with my mother-in-law's boyfriend, in which I made a snide comment about he's never paid child support to his ex. Later, he called me and told me if I ever said anything like that ever again he'd sue me for defamation. I took the threat seriously, as he is a lawyer, and uninvited him for our wedding and told my family I couldn't be around him anymore. Am I a jerk?\"] = \"Not a jerk\""
      ],
      "metadata": {
        "colab": {
          "base_uri": "https://localhost:8080/"
        },
        "id": "PPzy0rPuNxHG",
        "outputId": "9e07dcee-3a34-4367-bf3b-b53e9556e9df"
      },
      "execution_count": 75,
      "outputs": [
        {
          "output_type": "stream",
          "name": "stdout",
          "text": [
            "0    Not a jerk\n",
            "Name: I was in a conflict with my mother-in-law's boyfriend, in which I made a snide comment about he's never paid child support to his ex. Later, he called me and told me if I ever said anything like that ever again he'd sue me for defamation. I took the threat seriously, as he is a lawyer, and uninvited him for our wedding and told my family I couldn't be around him anymore. Am I a jerk?, dtype: object\n"
          ]
        }
      ]
    },
    {
      "cell_type": "code",
      "source": [
        "# Some of my relatives refuse to come to my wedding, since they don't approve of our 'lifestyle'. I would like to donate the money I will save to an LBGTQ organization in their name. I’m hoping that I or the organization will be able to send them a receipt/thank you for the donation. Would I be a jerk?\n",
        "dataFardina[\"\\nSome of my relatives refuse to come to my wedding, since they don't approve of our 'lifestyle'. I would like to donate the money I will save to an LBGTQ organization in their name. I’m hoping that I or the organization will be able to send them a receipt/thank you for the donation. Would I be a jerk?\"]\n",
        "nan_count = dataFardina[\"\\nSome of my relatives refuse to come to my wedding, since they don't approve of our 'lifestyle'. I would like to donate the money I will save to an LBGTQ organization in their name. I’m hoping that I or the organization will be able to send them a receipt/thank you for the donation. Would I be a jerk?\"].isna().sum()\n",
        "print(nan_count)"
      ],
      "metadata": {
        "colab": {
          "base_uri": "https://localhost:8080/"
        },
        "id": "0F9cGHEdOpy_",
        "outputId": "fba35770-86cb-44c8-9632-0e916aeee0b1"
      },
      "execution_count": 76,
      "outputs": [
        {
          "output_type": "stream",
          "name": "stdout",
          "text": [
            "1\n"
          ]
        }
      ]
    },
    {
      "cell_type": "code",
      "source": [
        "mode_for_current_question = dataFardina[(dataFardina[\"Would you describe yourself as compassionate?\"] == \"Yes\") & (dataFardina[\"You could describe yourself as...\"] == \"Strongly liberal\") & (dataFardina[\"How would you rate your religiousness / spirituality?\"] == \"Not spiritual at all\")][\"\\nSome of my relatives refuse to come to my wedding, since they don't approve of our 'lifestyle'. I would like to donate the money I will save to an LBGTQ organization in their name. I’m hoping that I or the organization will be able to send them a receipt/thank you for the donation. Would I be a jerk?\"].mode()\n",
        "print(mode_for_current_question)\n",
        "dataFardina.at[4, \"\\nSome of my relatives refuse to come to my wedding, since they don't approve of our 'lifestyle'. I would like to donate the money I will save to an LBGTQ organization in their name. I’m hoping that I or the organization will be able to send them a receipt/thank you for the donation. Would I be a jerk?\"] = \"Not a jerk\""
      ],
      "metadata": {
        "colab": {
          "base_uri": "https://localhost:8080/"
        },
        "id": "z_VjUHd_PgqT",
        "outputId": "c0b6eec7-5f27-475e-93e1-5ebfefe43f75"
      },
      "execution_count": 77,
      "outputs": [
        {
          "output_type": "stream",
          "name": "stdout",
          "text": [
            "0    Not a jerk\n",
            "Name: \\nSome of my relatives refuse to come to my wedding, since they don't approve of our 'lifestyle'. I would like to donate the money I will save to an LBGTQ organization in their name. I’m hoping that I or the organization will be able to send them a receipt/thank you for the donation. Would I be a jerk?, dtype: object\n"
          ]
        }
      ]
    },
    {
      "cell_type": "code",
      "source": [
        "# My wife has decided that since she can’t drink because she is pregnant that I can’t either. I planned to take my annual leave from work to take us (and pay for) a trip abroad. I asked my wife would the drinking rule still be in effect and she said of course. I’ve now decided I won’t be paying for us to take this trip. Am I jerk?\n",
        "dataFardina[\"My wife has decided that since she can’t drink because she is pregnant that I can’t either. I planned to take my annual leave from work to take us (and pay for) a trip abroad. I asked my wife would the drinking rule still be in effect and she said of course. I’ve now decided I won’t be paying for us to take this trip. Am I jerk?\"]\n",
        "nan_count = dataFardina[\"My wife has decided that since she can’t drink because she is pregnant that I can’t either. I planned to take my annual leave from work to take us (and pay for) a trip abroad. I asked my wife would the drinking rule still be in effect and she said of course. I’ve now decided I won’t be paying for us to take this trip. Am I jerk?\"].isna().sum()\n",
        "print(nan_count)"
      ],
      "metadata": {
        "colab": {
          "base_uri": "https://localhost:8080/"
        },
        "id": "-dq2HlGrQXY-",
        "outputId": "cb3088ad-391f-4f3b-f473-c044852bbfd4"
      },
      "execution_count": 78,
      "outputs": [
        {
          "output_type": "stream",
          "name": "stdout",
          "text": [
            "3\n"
          ]
        }
      ]
    },
    {
      "cell_type": "code",
      "source": [
        "mode_for_current_question = dataFardina[(dataFardina[\"Would you describe yourself as compassionate?\"] == \"Yes\") & (dataFardina[\"You could describe yourself as...\"] == \"Strongly liberal\") & (dataFardina[\"How would you rate your religiousness / spirituality?\"] == \"Not spiritual at all\")][\"My wife has decided that since she can’t drink because she is pregnant that I can’t either. I planned to take my annual leave from work to take us (and pay for) a trip abroad. I asked my wife would the drinking rule still be in effect and she said of course. I’ve now decided I won’t be paying for us to take this trip. Am I jerk?\"].mode()\n",
        "print(mode_for_current_question)\n",
        "dataFardina.at[4, \"My wife has decided that since she can’t drink because she is pregnant that I can’t either. I planned to take my annual leave from work to take us (and pay for) a trip abroad. I asked my wife would the drinking rule still be in effect and she said of course. I’ve now decided I won’t be paying for us to take this trip. Am I jerk?\"] = \"Strongly a jerk\""
      ],
      "metadata": {
        "colab": {
          "base_uri": "https://localhost:8080/"
        },
        "id": "9uUBE9j4RVGU",
        "outputId": "9237faca-89e5-4b09-d4cd-5c17f9a42b39"
      },
      "execution_count": 79,
      "outputs": [
        {
          "output_type": "stream",
          "name": "stdout",
          "text": [
            "0    Strongly a jerk\n",
            "Name: My wife has decided that since she can’t drink because she is pregnant that I can’t either. I planned to take my annual leave from work to take us (and pay for) a trip abroad. I asked my wife would the drinking rule still be in effect and she said of course. I’ve now decided I won’t be paying for us to take this trip. Am I jerk?, dtype: object\n"
          ]
        }
      ]
    },
    {
      "cell_type": "code",
      "source": [
        "mode_for_current_question = dataFardina[(dataFardina[\"Would you describe yourself as compassionate?\"] == \"No\") & (dataFardina[\"You could describe yourself as...\"] == \"Mildly liberal\") & (dataFardina[\"How would you rate your religiousness / spirituality?\"] == \"Not spiritual at all\")][\"My wife has decided that since she can’t drink because she is pregnant that I can’t either. I planned to take my annual leave from work to take us (and pay for) a trip abroad. I asked my wife would the drinking rule still be in effect and she said of course. I’ve now decided I won’t be paying for us to take this trip. Am I jerk?\"].mode()\n",
        "print(mode_for_current_question)\n",
        "dataFardina.at[6, \"My wife has decided that since she can’t drink because she is pregnant that I can’t either. I planned to take my annual leave from work to take us (and pay for) a trip abroad. I asked my wife would the drinking rule still be in effect and she said of course. I’ve now decided I won’t be paying for us to take this trip. Am I jerk?\"] = \"Mildly a jerk\""
      ],
      "metadata": {
        "colab": {
          "base_uri": "https://localhost:8080/"
        },
        "id": "L7GY1s4BR5Ru",
        "outputId": "7b375196-9851-4ae6-8cd0-bb86d4f2a781"
      },
      "execution_count": 80,
      "outputs": [
        {
          "output_type": "stream",
          "name": "stdout",
          "text": [
            "0    Mildly a jerk\n",
            "Name: My wife has decided that since she can’t drink because she is pregnant that I can’t either. I planned to take my annual leave from work to take us (and pay for) a trip abroad. I asked my wife would the drinking rule still be in effect and she said of course. I’ve now decided I won’t be paying for us to take this trip. Am I jerk?, dtype: object\n"
          ]
        }
      ]
    },
    {
      "cell_type": "code",
      "source": [
        "mode_for_current_question = dataFardina[(dataFardina[\"Would you describe yourself as compassionate?\"] == \"Yes\") & (dataFardina[\"You could describe yourself as...\"] == \"Mildly liberal\") & (dataFardina[\"How would you rate your religiousness / spirituality?\"] == \"Strongly spiritual\")][\"My wife has decided that since she can’t drink because she is pregnant that I can’t either. I planned to take my annual leave from work to take us (and pay for) a trip abroad. I asked my wife would the drinking rule still be in effect and she said of course. I’ve now decided I won’t be paying for us to take this trip. Am I jerk?\"].mode()\n",
        "print(mode_for_current_question)\n",
        "dataFardina.at[18, \"My wife has decided that since she can’t drink because she is pregnant that I can’t either. I planned to take my annual leave from work to take us (and pay for) a trip abroad. I asked my wife would the drinking rule still be in effect and she said of course. I’ve now decided I won’t be paying for us to take this trip. Am I jerk?\"] = \"Strongly a jerk\""
      ],
      "metadata": {
        "colab": {
          "base_uri": "https://localhost:8080/"
        },
        "id": "fs2VLtxGSe26",
        "outputId": "ee6ac452-156a-46f4-da3c-ae2b208775da"
      },
      "execution_count": 81,
      "outputs": [
        {
          "output_type": "stream",
          "name": "stdout",
          "text": [
            "0    Strongly a jerk\n",
            "Name: My wife has decided that since she can’t drink because she is pregnant that I can’t either. I planned to take my annual leave from work to take us (and pay for) a trip abroad. I asked my wife would the drinking rule still be in effect and she said of course. I’ve now decided I won’t be paying for us to take this trip. Am I jerk?, dtype: object\n"
          ]
        }
      ]
    },
    {
      "cell_type": "code",
      "source": [
        "# My sister is going to be a bridesmaid at my wedding. Her hair was dyed, but she recently decided to grow it out, so parts of it are bleached and part are not. I told her it wouldn't look good in the pictures, and offered to pay for her to dye it. She said no, and I said she couldn't be in the wedding party. Am I a jerk?\n",
        "dataFardina[\"My sister is going to be a bridesmaid at my wedding. Her hair was dyed, but she recently decided to grow it out, so parts of it are bleached and part are not. I told her it wouldn't look good in the pictures, and offered to pay for her to dye it. She said no, and I said she couldn't be in the wedding party. Am I a jerk?\"]\n",
        "nan_count = dataFardina[\"My sister is going to be a bridesmaid at my wedding. Her hair was dyed, but she recently decided to grow it out, so parts of it are bleached and part are not. I told her it wouldn't look good in the pictures, and offered to pay for her to dye it. She said no, and I said she couldn't be in the wedding party. Am I a jerk?\"].isna().sum()\n",
        "print(nan_count)"
      ],
      "metadata": {
        "colab": {
          "base_uri": "https://localhost:8080/"
        },
        "id": "PloaqEI4TAnP",
        "outputId": "272e2117-0026-421d-e508-ca974763e1dd"
      },
      "execution_count": 82,
      "outputs": [
        {
          "output_type": "stream",
          "name": "stdout",
          "text": [
            "0\n"
          ]
        }
      ]
    },
    {
      "cell_type": "markdown",
      "source": [
        "###**DATA ISSUE 5:** Change name of column from \"... Am I jerk?\" to \"... Am I a jerk?\""
      ],
      "metadata": {
        "id": "irgTUQmDDuoY"
      }
    },
    {
      "cell_type": "code",
      "source": [
        "dataFardina = dataFardina.rename(columns={\"My wife has decided that since she can’t drink because she is pregnant that I can’t either. I planned to take my annual leave from work to take us (and pay for) a trip abroad. I asked my wife would the drinking rule still be in effect and she said of course. I’ve now decided I won’t be paying for us to take this trip. Am I jerk?\": \"My wife has decided that since she can’t drink because she is pregnant that I can’t either. I planned to take my annual leave from work to take us (and pay for) a trip abroad. I asked my wife would the drinking rule still be in effect and she said of course. I’ve now decided I won’t be paying for us to take this trip. Am I a jerk?\"})"
      ],
      "metadata": {
        "id": "pOXAcwE0DRpI"
      },
      "execution_count": 83,
      "outputs": []
    },
    {
      "cell_type": "markdown",
      "source": [
        "## 1.4 Merge Datasets"
      ],
      "metadata": {
        "id": "ADLCcuj8TMCg"
      }
    },
    {
      "cell_type": "markdown",
      "source": [
        "Merge both datasets so we have one complete dataset with everything."
      ],
      "metadata": {
        "id": "AEYdM2ZV_Xdq"
      }
    },
    {
      "cell_type": "code",
      "source": [
        "dataMerged = pd.concat([dataMax, dataFardina], ignore_index=True)"
      ],
      "metadata": {
        "id": "2AX8G7yO8zZb"
      },
      "execution_count": 84,
      "outputs": []
    },
    {
      "cell_type": "code",
      "source": [
        "i = 0\n",
        "for col in dataMerged.columns:\n",
        "    num_nan = dataMerged[col].isna().sum()\n",
        "    print(f\"Column {i} has {num_nan} NaN values.\")\n",
        "    i += 1"
      ],
      "metadata": {
        "colab": {
          "base_uri": "https://localhost:8080/"
        },
        "id": "0I-NaO86EmPc",
        "outputId": "5c902aca-72a6-445e-d3f0-0d1afae61c78"
      },
      "execution_count": 85,
      "outputs": [
        {
          "output_type": "stream",
          "name": "stdout",
          "text": [
            "Column 0 has 0 NaN values.\n",
            "Column 1 has 0 NaN values.\n",
            "Column 2 has 0 NaN values.\n",
            "Column 3 has 0 NaN values.\n",
            "Column 4 has 0 NaN values.\n",
            "Column 5 has 0 NaN values.\n",
            "Column 6 has 0 NaN values.\n",
            "Column 7 has 0 NaN values.\n",
            "Column 8 has 0 NaN values.\n",
            "Column 9 has 0 NaN values.\n",
            "Column 10 has 0 NaN values.\n",
            "Column 11 has 0 NaN values.\n",
            "Column 12 has 0 NaN values.\n",
            "Column 13 has 0 NaN values.\n",
            "Column 14 has 0 NaN values.\n",
            "Column 15 has 0 NaN values.\n",
            "Column 16 has 0 NaN values.\n",
            "Column 17 has 0 NaN values.\n",
            "Column 18 has 0 NaN values.\n",
            "Column 19 has 0 NaN values.\n",
            "Column 20 has 0 NaN values.\n",
            "Column 21 has 93 NaN values.\n"
          ]
        }
      ]
    },
    {
      "cell_type": "markdown",
      "source": [
        "# **2. My Questions**\n"
      ],
      "metadata": {
        "id": "-YLbvlo0FRb9"
      }
    },
    {
      "cell_type": "markdown",
      "source": [
        "1. \"Is there a relationship between holding extreme opposite political views (strongly liberal or strongly conservative) and the likelihood of answering 'Strongly a jerk', 'Mildly a jerk', or 'Not a jerk'?\"\n",
        "\n",
        "2. \"Do the students of CMSC320 show differences in aligning with their parents' political views when their parents hold strongly liberal or strongly conservative positions?\"\n",
        "\n",
        "\n",
        "3. ”Did the priming question cause a statistically significant difference in answers between the two sections.\"\n"
      ],
      "metadata": {
        "id": "FwumLxreFjcz"
      }
    },
    {
      "cell_type": "markdown",
      "source": [
        "## **QUESTION 1**\n",
        "\n",
        "---\n",
        "\n",
        "\n"
      ],
      "metadata": {
        "id": "te2l0I8PTqAu"
      }
    },
    {
      "cell_type": "markdown",
      "source": [
        "**\"Is there a relationship between holding extreme opposite political views (strongly liberal or strongly conservative) and the likelihood of answering 'Strongly a jerk', 'Mildly a jerk', or 'Not a jerk'?\"**"
      ],
      "metadata": {
        "id": "AI5zEk44ZW4c"
      }
    },
    {
      "cell_type": "markdown",
      "source": [
        "Add three new columns:\n",
        "- 1. Number of times current student said: Strongly a jerk\n",
        "- 2. Number of times current student said: Mildly a jerk\n",
        "- 3. Number of times current student said: Not a jerk"
      ],
      "metadata": {
        "id": "NNUm8scwUshx"
      }
    },
    {
      "cell_type": "code",
      "source": [
        "# Number of times current student said: Strongly a jerk\n",
        "dataMerged['Strongly a Jerk'] = (dataMerged == 'Strongly a jerk').sum(axis=1)"
      ],
      "metadata": {
        "id": "_vR2RGGkZjJd"
      },
      "execution_count": 86,
      "outputs": []
    },
    {
      "cell_type": "code",
      "source": [
        "# Number of times current student said: Mildly a jerk\n",
        "dataMerged['Mildly a Jerk'] = (dataMerged == 'Mildly a jerk').sum(axis=1)"
      ],
      "metadata": {
        "id": "50PcSyLabWm4"
      },
      "execution_count": 87,
      "outputs": []
    },
    {
      "cell_type": "code",
      "source": [
        "# Number of times current student said: Not a jerk\n",
        "dataMerged['Not a Jerk'] = (dataMerged == 'Not a jerk').sum(axis=1)"
      ],
      "metadata": {
        "id": "6Hzmdoy0bYAI"
      },
      "execution_count": 88,
      "outputs": []
    },
    {
      "cell_type": "markdown",
      "source": [
        "Create two new datasets:\n",
        "  - dataSC: Including the columns previously created for only \"Strongly Conservative\" students\n",
        "  - dataSL: Including the columns previously created for only \"Strongly Liberal\" students  "
      ],
      "metadata": {
        "id": "9JObtKr6OA5C"
      }
    },
    {
      "cell_type": "code",
      "source": [
        "dataSC = dataMerged[dataMerged['You could describe yourself as...'] == \"Strongly conservative\"]\n",
        "dataSL = dataMerged[dataMerged['You could describe yourself as...'] == \"Strongly liberal\"]\n",
        "columns = ['Strongly a Jerk', 'Mildly a Jerk', 'Not a Jerk']\n",
        "\n",
        "dataSC = dataSC[columns]\n",
        "dataSL = dataSL[columns]"
      ],
      "metadata": {
        "id": "7T0RVAIOcmKe"
      },
      "execution_count": 89,
      "outputs": []
    },
    {
      "cell_type": "markdown",
      "source": [
        "- Heatmap comparing percentage of answers in each category for both \"Strongly Conservative\" and \"Strongly Liberal\" students"
      ],
      "metadata": {
        "id": "Uj3X32lZmxig"
      }
    },
    {
      "cell_type": "code",
      "source": [
        "# Heatmap for percentage dataSC (Strongly conservative)\n",
        "total_per_row_SC = dataSC.sum(axis=1)\n",
        "dataSC_percentage = (dataSC.divide(total_per_row_SC, axis=0)) * 100\n",
        "agg_dataSC_percentage = dataSC_percentage.mean().to_frame().T\n",
        "\n",
        "plt.figure(figsize=(10, 6))\n",
        "plt.title(\"Percentage of answers of Strongly Conservative students\")\n",
        "sns.heatmap(agg_dataSC_percentage, cmap='YlOrRd', annot=True, fmt='.2f')\n",
        "\n",
        "# Heatmap for percentage dataSL (Strongly liberal)\n",
        "total_per_row_SL = dataSL.sum(axis=1)\n",
        "dataSL_percentage = (dataSL.divide(total_per_row_SL, axis=0)) * 100\n",
        "agg_dataSL_percentage = dataSL_percentage.mean().to_frame().T\n",
        "\n",
        "plt.figure(figsize=(10, 6))\n",
        "plt.title(\"Percentage of answers of Strongly Liberal students\")\n",
        "sns.heatmap(agg_dataSL_percentage, cmap='YlGnBu', annot=True, fmt='.2f')\n"
      ],
      "metadata": {
        "colab": {
          "base_uri": "https://localhost:8080/",
          "height": 1000
        },
        "id": "x1f0-5Cf22Z3",
        "outputId": "9462a4ec-528c-4dd3-9275-cabfc2de465e"
      },
      "execution_count": 90,
      "outputs": [
        {
          "output_type": "execute_result",
          "data": {
            "text/plain": [
              "<Axes: title={'center': 'Percentage of answers of Strongly Liberal students'}>"
            ]
          },
          "metadata": {},
          "execution_count": 90
        },
        {
          "output_type": "display_data",
          "data": {
            "text/plain": [
              "<Figure size 1000x600 with 2 Axes>"
            ],
            "image/png": "[encoded data removed]"
          },
          "metadata": {}
        },
        {
          "output_type": "display_data",
          "data": {
            "text/plain": [
              "<Figure size 1000x600 with 2 Axes>"
            ],
            "image/png": "[encoded data removed]"
          },
          "metadata": {}
        }
      ]
    },
    {
      "cell_type": "markdown",
      "source": [
        "- Radar chart comparing the distribution of answers in each category for both 'Strongly Conservative' and 'Strongly Liberal' students"
      ],
      "metadata": {
        "id": "aoE5w7TInq6I"
      }
    },
    {
      "cell_type": "code",
      "source": [
        "# Font\n",
        "plt.rcParams['font.family'] = 'Liberation Mono'\n",
        "from matplotlib.font_manager import FontProperties\n",
        "plt.rcParams.update(plt.rcParamsDefault)\n",
        "\n",
        "# Define labels from column names\n",
        "labels = dataSC.columns.tolist()\n",
        "\n",
        "# Extract the mean percentages\n",
        "sc_mean_values = agg_dataSC_percentage.values[0].tolist()\n",
        "sl_mean_values = agg_dataSL_percentage.values[0].tolist()\n",
        "\n",
        "# Set data for radar chart\n",
        "num_vars = len(labels)\n",
        "angles = np.linspace(0, 2 * np.pi, num_vars, endpoint=False).tolist()\n",
        "sc_mean_values += sc_mean_values[:1]\n",
        "sl_mean_values += sl_mean_values[:1]\n",
        "angles += angles[:1]\n",
        "\n",
        "# Plot\n",
        "fig, ax = plt.subplots(figsize=(8, 8), subplot_kw=dict(polar=True))\n",
        "\n",
        "# Plot data and fill with color\n",
        "ax.plot(angles, sc_mean_values, color='red', linewidth=2, linestyle='solid', label='Strongly Conservative')\n",
        "ax.fill(angles, sc_mean_values, color='red', alpha=0.25)\n",
        "ax.plot(angles, sl_mean_values, color='blue', linewidth=2, linestyle='solid', label='Strongly Liberal')\n",
        "ax.fill(angles, sl_mean_values, color='blue', alpha=0.25)\n",
        "ax.set_xticks(angles[:-1])\n",
        "ax.set_xticklabels(labels, color='#000000', size=15)\n",
        "ax.set_yticklabels([])\n",
        "ax.xaxis.set_tick_params(pad=50)  # to increase space for category labels\n",
        "\n",
        "# color\n",
        "ax.set_facecolor((0.85, 0.85, 0.85, 0.4))  # light grey with less transparency\n",
        "\n",
        "# Set the title\n",
        "title_font = FontProperties(family='Liberation Mono', weight='bold', size=20)\n",
        "\n",
        "ax.set_title('Percentage of Responses Comparing Political Views',\n",
        "             color='#000000',\n",
        "             x=0.6, y=1.2,\n",
        "             fontproperties=title_font,\n",
        "             bbox=dict(facecolor='#CDCDCD', edgecolor='none', boxstyle='round,pad=0.3', alpha=0.7, lw=10))\n",
        "\n",
        "# Customize legend\n",
        "ax.legend(loc='upper right', bbox_to_anchor=(1.6, 1.1), fontsize=12)\n",
        "\n",
        "# Display the radar chart\n",
        "plt.tight_layout()\n",
        "plt.show()\n"
      ],
      "metadata": {
        "colab": {
          "base_uri": "https://localhost:8080/",
          "height": 613
        },
        "id": "PE8KmB2L57eL",
        "outputId": "30aa9caf-1bd1-4afa-9eb4-795838c84a5d"
      },
      "execution_count": 91,
      "outputs": [
        {
          "output_type": "display_data",
          "data": {
            "text/plain": [
              "<Figure size 800x800 with 1 Axes>"
            ],
            "image/png": "[encoded data removed]"
          },
          "metadata": {}
        }
      ]
    },
    {
      "cell_type": "markdown",
      "source": [
        "##**QUESTION 2**\n",
        "\n",
        "---\n"
      ],
      "metadata": {
        "id": "1VXI2PeJUGH6"
      }
    },
    {
      "cell_type": "markdown",
      "source": [
        "**Do the students of CMSC320 show differences in aligning with their parents' political views when their parents hold strongly liberal or strongly conservative positions?**"
      ],
      "metadata": {
        "id": "LqSzW2uaNMGB"
      }
    },
    {
      "cell_type": "markdown",
      "source": [
        "Create two new datasets:\n",
        "  - dataSC - dataset of students whose parents are Strongly Conservative\n",
        "  - dataSL - dataset of students whose parents are Strongly Liberal   \n",
        "\n",
        "Add a new column for each called 'Political Difference' that would:\n",
        "\n",
        "For dataSC:\n",
        "  - 1 representing that the student is 1 political position/ideology away from their parents (Mildly conservative)     \n",
        "  - 2 representing that the student is 2 political positions/ideology away from their parents (Neutral)\n",
        "  - 3 representing that the student is 3 political positions/ideology away from their parents (Mildly liberal)\n",
        "  - 4 representing that the student is 4 political positions/ideology away from their parents (Strongly liberal)\n",
        "\n",
        "For dataSL:\n",
        "  - 1 representing that the student is 1 political position/ideology away from their parents (Mildly liberal)     \n",
        "  - 2 representing that the student is 2 political positions/ideology away from their parents (Neutral)\n",
        "  - 3 representing that the student is 3 political positions/ideology away from their parents (Mildly conservative)\n",
        "  - 4 representing that the student is 4 political positions/ideology away from their parents (Strongly conservative)"
      ],
      "metadata": {
        "id": "wX3qxGhOn4_q"
      }
    },
    {
      "cell_type": "code",
      "source": [
        "dataSC = dataMerged[dataMerged['You could describe the adults you grew up with as...'] == \"Strongly conservative\"]\n",
        "dataSL = dataMerged[dataMerged['You could describe the adults you grew up with as...'] == \"Strongly liberal\"]\n",
        "\n",
        "dataSC[\"Political Difference\"] = dataSC[\"You could describe yourself as...\"].apply(lambda pv: 0 if pv == \"Strongly conservative\" else\n",
        "                                                                                              1 if pv == \"Mildly conservative\" else\n",
        "                                                                                              2 if pv == \"Neutral\" else\n",
        "                                                                                              3 if pv == \"Mildly liberal\" else\n",
        "                                                                                              4 if pv == \"Strongly liberal\" else None)\n",
        "\n",
        "dataSL[\"Political Difference\"] = dataSL[\"You could describe yourself as...\"].apply(lambda pv: 0 if pv == \"Strongly liberal\" else\n",
        "                                                                                              1 if pv == \"Mildly liberal\" else\n",
        "                                                                                              2 if pv == \"Neutral\" else\n",
        "                                                                                              3 if pv == \"Mildly conservative\" else\n",
        "                                                                                              4 if pv == \"Strongly conservative\" else None)\n",
        "\n",
        "dataSC = dataSC[dataSC[\"Political Difference\"].isna() == False]\n",
        "dataSL = dataSL[dataSL[\"Political Difference\"].isna() == False]"
      ],
      "metadata": {
        "colab": {
          "base_uri": "https://localhost:8080/"
        },
        "id": "tZ4b3bRdQAj8",
        "outputId": "3eae4459-0e83-4501-a5bf-1d53b92e13d2"
      },
      "execution_count": 92,
      "outputs": [
        {
          "output_type": "stream",
          "name": "stderr",
          "text": [
            "<ipython-input-92-784734d19d5c>:4: SettingWithCopyWarning: \n",
            "A value is trying to be set on a copy of a slice from a DataFrame.\n",
            "Try using .loc[row_indexer,col_indexer] = value instead\n",
            "\n",
            "See the caveats in the documentation: https://pandas.pydata.org/pandas-docs/stable/user_guide/indexing.html#returning-a-view-versus-a-copy\n",
            "  dataSC[\"Political Difference\"] = dataSC[\"You could describe yourself as...\"].apply(lambda pv: 0 if pv == \"Strongly conservative\" else\n",
            "<ipython-input-92-784734d19d5c>:10: SettingWithCopyWarning: \n",
            "A value is trying to be set on a copy of a slice from a DataFrame.\n",
            "Try using .loc[row_indexer,col_indexer] = value instead\n",
            "\n",
            "See the caveats in the documentation: https://pandas.pydata.org/pandas-docs/stable/user_guide/indexing.html#returning-a-view-versus-a-copy\n",
            "  dataSL[\"Political Difference\"] = dataSL[\"You could describe yourself as...\"].apply(lambda pv: 0 if pv == \"Strongly liberal\" else\n"
          ]
        }
      ]
    },
    {
      "cell_type": "markdown",
      "source": [
        "**Distribution of political difference for SC**"
      ],
      "metadata": {
        "id": "9QHxzxG2p844"
      }
    },
    {
      "cell_type": "code",
      "source": [
        "# Count the occurrences of each unique value\n",
        "value_counts = dataSC['Political Difference'].value_counts().sort_index()\n",
        "values = value_counts.index.tolist()\n",
        "counts = value_counts.tolist()\n",
        "\n",
        "# Bar plot\n",
        "plt.bar(values, counts, color='#c22c11', edgecolor='black')  # Added edgecolor here\n",
        "plt.xlabel(\"Political Difference\")\n",
        "plt.ylabel(\"Count\")\n",
        "plt.title(\"Distribution of Political Difference with \\\"Strongly Conservative\\\" Parents\")\n",
        "plt.show()"
      ],
      "metadata": {
        "colab": {
          "base_uri": "https://localhost:8080/",
          "height": 472
        },
        "id": "PEu9zSEdZqv_",
        "outputId": "fc8469c0-133d-4a8a-adef-54ff669f1777"
      },
      "execution_count": 93,
      "outputs": [
        {
          "output_type": "display_data",
          "data": {
            "text/plain": [
              "<Figure size 640x480 with 1 Axes>"
            ],
            "image/png": "[encoded data removed]"
          },
          "metadata": {}
        }
      ]
    },
    {
      "cell_type": "markdown",
      "source": [
        "**Distribution of political difference for SC**"
      ],
      "metadata": {
        "id": "Pj2GgLlPqCpL"
      }
    },
    {
      "cell_type": "code",
      "source": [
        "# Count the occurrences\n",
        "value_counts = dataSL['Political Difference'].value_counts().sort_index()\n",
        "values = value_counts.index.tolist()\n",
        "counts = value_counts.tolist()\n",
        "\n",
        "# Bar plot\n",
        "plt.bar(values, counts, color='#074ff5', edgecolor='black')  # Added edgecolor here\n",
        "plt.xlabel(\"Political Difference\")\n",
        "plt.ylabel(\"Count\")\n",
        "plt.title(\"Distribution of Political Difference with \\\"Strongly Liberal\\\" Parents\")\n",
        "plt.show()"
      ],
      "metadata": {
        "colab": {
          "base_uri": "https://localhost:8080/",
          "height": 472
        },
        "id": "bKrToMYIZwRg",
        "outputId": "7e680fa0-6197-4d56-b9a8-972214c332ce"
      },
      "execution_count": 94,
      "outputs": [
        {
          "output_type": "display_data",
          "data": {
            "text/plain": [
              "<Figure size 640x480 with 1 Axes>"
            ],
            "image/png": "[encoded data removed]"
          },
          "metadata": {}
        }
      ]
    },
    {
      "cell_type": "markdown",
      "source": [
        "**MANN-WHITNEY U TEST**"
      ],
      "metadata": {
        "id": "NPgcPsbiWnO-"
      }
    },
    {
      "cell_type": "markdown",
      "source": [
        "$N_0 = $ The distribution of the \"Political Difference\" for parents with extreme conservative political views and their sons/daughters is statistically EQUAL to the distribution of the \"Political Difference\" for parents with extreme liberal political views and their sons/daughters.\n",
        "\n",
        "$N_A = $ The distribution of the \"Political Difference\" for parents with extreme conservative political views and their sons/daughters is statistically DIFFERENT from the distribution of the \"Political Difference\" for parents with extreme liberal political views and their sons/daughters."
      ],
      "metadata": {
        "id": "blGovOKQXImV"
      }
    },
    {
      "cell_type": "code",
      "source": [
        "stat, p_value = sp.stats.mannwhitneyu(dataSL['Political Difference'], dataSC['Political Difference'])\n",
        "print(\"The p-value of the test is: {}\\n\".format(p_value))\n",
        "\n",
        "if p_value <= 0.01:\n",
        "  print(\"Reject Null hypothesis since p-value <= 0.01: Therefore, the distribution of Political Difference for strongly liberal parents is NOT EQUAL to the distribution of Political Difference for strongly conservative parents.\")\n",
        "else:\n",
        "  print(\"Fail to reject the Null hypothesis since p-value > 0.01: Therefore, the distribution of Political Difference for strongly liberal parents is EQUAL to the distribution of Political Difference for strongly conservative parents.\")"
      ],
      "metadata": {
        "colab": {
          "base_uri": "https://localhost:8080/"
        },
        "id": "pe0bAjkRWm9d",
        "outputId": "49dfdd59-e617-4e6a-8681-86f9d817cb06"
      },
      "execution_count": 95,
      "outputs": [
        {
          "output_type": "stream",
          "name": "stdout",
          "text": [
            "The p-value of the test is: 0.002331132150955622\n",
            "\n",
            "Reject Null hypothesis since p-value <= 0.01: Therefore, the distribution of Political Difference for strongly liberal parents is NOT EQUAL to the distribution of Political Difference for strongly conservative parents.\n"
          ]
        }
      ]
    },
    {
      "cell_type": "markdown",
      "source": [
        "We **REJECT the Null Hypotheis** since the p-value (0.002331132150955622) is less than the alpha used for this test (0.01).\n",
        "\n",
        "Therefore, we do not have enough evidence to conclude that the distribution of Political Difference for strongly liberal parents is EQUAL to the distribution of Political Difference for strongly conservative parents.\n",
        "\n",
        "For that reason, we adopt the alternative hypothesis that states that the distribution of Political Difference for strongly liberal parents is NOT EQUAL to the distribution of Political Difference for strongly conservative parents."
      ],
      "metadata": {
        "id": "p3rhXNYnbbut"
      }
    },
    {
      "cell_type": "code",
      "source": [
        "print(dataSL['Political Difference'].mean())\n",
        "print(dataSC['Political Difference'].mean())"
      ],
      "metadata": {
        "colab": {
          "base_uri": "https://localhost:8080/"
        },
        "id": "H7V53mLgb_jj",
        "outputId": "e0acce3d-84f3-4678-b536-81e58f104e0f"
      },
      "execution_count": 96,
      "outputs": [
        {
          "output_type": "stream",
          "name": "stdout",
          "text": [
            "0.6153846153846154\n",
            "2.3\n"
          ]
        }
      ]
    },
    {
      "cell_type": "markdown",
      "source": [
        "Mean value for SL = 0.6 - Meaning most of students follow the political ideology of their strongly liberal parents.\n",
        "\n",
        "Mean value for SC = 2.3 - Meaning most of the students DO NOT follow the political ideology of their strongly connservative parents and tend to be more neutral or even they lay in more liberal political position."
      ],
      "metadata": {
        "id": "hAbrgoVwcL_W"
      }
    },
    {
      "cell_type": "markdown",
      "source": [
        "##**QUESTION 3**\n",
        "\n",
        "---\n"
      ],
      "metadata": {
        "id": "szzSe1pyUQtU"
      }
    },
    {
      "cell_type": "markdown",
      "source": [
        "**”Did the priming question cause a statistically significant difference in answers between the two sections.\"**\n"
      ],
      "metadata": {
        "id": "5vrAqWGLHrdi"
      }
    },
    {
      "cell_type": "markdown",
      "source": [
        "Add three new columns for both datasets (Max and Fardina):\n",
        "- 1. Number of times current student said: Strongly a jerk\n",
        "- 2. Number of times current student said: Mildly a jerk\n",
        "- 3. Number of times current student said: Not a jerk"
      ],
      "metadata": {
        "id": "boeDZRItqZYy"
      }
    },
    {
      "cell_type": "code",
      "source": [
        "# Number of times current student said: Strongly a jerk\n",
        "dataMax['Strongly a Jerk'] = (dataMax == 'Strongly a jerk').sum(axis=1)\n",
        "# Number of times current student said: Mildly a jerk\n",
        "dataMax['Mildly a Jerk'] = (dataMax == 'Mildly a jerk').sum(axis=1)\n",
        "# Number of times current student said: Not a jerk\n",
        "dataMax['Not a Jerk'] = (dataMax == 'Not a jerk').sum(axis=1)"
      ],
      "metadata": {
        "id": "CabV5e23HBvC"
      },
      "execution_count": 97,
      "outputs": []
    },
    {
      "cell_type": "code",
      "source": [
        "# Number of times current student said: Strongly a jerk\n",
        "dataFardina['Strongly a Jerk'] = (dataFardina == 'Strongly a jerk').sum(axis=1)\n",
        "# Number of times current student said: Mildly a jerk\n",
        "dataFardina['Mildly a Jerk'] = (dataFardina == 'Mildly a jerk').sum(axis=1)\n",
        "# Number of times current student said: Mildly a jerk\n",
        "dataFardina['Not a Jerk'] = (dataFardina == 'Not a jerk').sum(axis=1)"
      ],
      "metadata": {
        "id": "q9MvJRUUI8tS"
      },
      "execution_count": 98,
      "outputs": []
    },
    {
      "cell_type": "code",
      "source": [
        "# Calculate the frequency (in percentage) of 'Strongly a Jerk', 'Mildly a Jerk', and 'Not a Jerk' for dataFardina and dataMax\n",
        "categories = ['Strongly a Jerk', 'Mildly a Jerk', 'Not a Jerk']\n",
        "counts_fardina = [dataFardina[column].sum() for column in categories]\n",
        "counts_max = [dataMax[column].sum() for column in categories]\n",
        "percentages_fardina = [count / sum(counts_fardina) * 100 for count in counts_fardina]\n",
        "percentages_max = [count / sum(counts_max) * 100 for count in counts_max]\n",
        "\n",
        "# Bar chart\n",
        "width = 0.35  # Width of the bars\n",
        "x = np.arange(len(categories))  # x-axis values\n",
        "fig, ax = plt.subplots()\n",
        "rects1 = ax.bar(x - width/2, percentages_fardina, width, label='Fardina\\'s Dataset', color='#3EB489', edgecolor='black')\n",
        "rects2 = ax.bar(x + width/2, percentages_max, width, label='Max\\'s Dataset', color='#CBC3E3', edgecolor='black')\n",
        "ax.set_ylabel('Percentages (%)')\n",
        "ax.set_title('Comparison of Response Percentages between Max\\'s dataset and Fardina\\'s dataset ')\n",
        "ax.set_xticks(x)\n",
        "ax.set_xticklabels(categories)\n",
        "ax.legend()\n",
        "plt.show()"
      ],
      "metadata": {
        "colab": {
          "base_uri": "https://localhost:8080/",
          "height": 452
        },
        "id": "I18ldAs9G9gw",
        "outputId": "6ee17e1f-81df-4f0d-f618-b9e1b40b33ee"
      },
      "execution_count": 99,
      "outputs": [
        {
          "output_type": "display_data",
          "data": {
            "text/plain": [
              "<Figure size 640x480 with 1 Axes>"
            ],
            "image/png": "[encoded data removed]"
          },
          "metadata": {}
        }
      ]
    },
    {
      "cell_type": "markdown",
      "source": [
        "Check distribution for each:\n",
        "- Strongly a Jerk\n",
        "- Mildly a Jerk\n",
        "- Not a Jerk"
      ],
      "metadata": {
        "id": "tZB_S1SpMaM-"
      }
    },
    {
      "cell_type": "markdown",
      "source": [
        "****"
      ],
      "metadata": {
        "id": "B8AACZXHgDY-"
      }
    },
    {
      "cell_type": "markdown",
      "source": [
        "**Strongly a Jerk**"
      ],
      "metadata": {
        "id": "Fg2Ncc6KgCkU"
      }
    },
    {
      "cell_type": "markdown",
      "source": [
        "$N_0 = $ The mean of answers responded \"Strongly a Jerk\" of the students in Max's dataset is **EQUAL** to the mean of answers responded \"Strongly a Jerk\" of the students in Fardian's dataset.\n",
        "\n",
        "$N_A = $ The mean of answers responded \"Strongly a Jerk\" of the students in Max's dataset is **NOT EQUAL** to the mean of answers responded \"Strongly a Jerk\" of the students in Fardian's dataset."
      ],
      "metadata": {
        "id": "6nOh8UcAhpVK"
      }
    },
    {
      "cell_type": "code",
      "source": [
        "# Count the occurrences\n",
        "value_counts = dataMax['Strongly a Jerk'].value_counts().sort_index()\n",
        "values = value_counts.index.tolist()\n",
        "counts = value_counts.tolist()\n",
        "\n",
        "# Create a bar plot\n",
        "plt.bar(values, counts, color='#CBC3E3', edgecolor='black', alpha=0.7)\n",
        "plt.xlabel(\"Strongly a Jerk\")\n",
        "plt.ylabel(\"Frequency\")\n",
        "plt.title(\"Histogram of Answers Responded \\\"Strongly a Jerk\\\" of Max's Dataset\")\n",
        "plt.show()"
      ],
      "metadata": {
        "colab": {
          "base_uri": "https://localhost:8080/",
          "height": 472
        },
        "id": "9LGuYITsfVSM",
        "outputId": "5f0de79c-3033-4a06-e681-0d333446cbf7"
      },
      "execution_count": 100,
      "outputs": [
        {
          "output_type": "display_data",
          "data": {
            "text/plain": [
              "<Figure size 640x480 with 1 Axes>"
            ],
            "image/png": "[encoded data removed]"
          },
          "metadata": {}
        }
      ]
    },
    {
      "cell_type": "code",
      "source": [
        "# Count the occurrences\n",
        "value_counts = dataFardina['Strongly a Jerk'].value_counts().sort_index()\n",
        "values = value_counts.index.tolist()\n",
        "counts = value_counts.tolist()\n",
        "\n",
        "# Create a bar plot\n",
        "plt.bar(values, counts, color='#3EB489', edgecolor='black', alpha=0.7)\n",
        "plt.xlabel(\"Strongly a Jerk\")\n",
        "plt.ylabel(\"Frequency\")\n",
        "plt.title(\"Histogram of Answers Responded \\\"Strongly a Jerk\\\" of Fardina's Dataset\")\n",
        "plt.show()"
      ],
      "metadata": {
        "colab": {
          "base_uri": "https://localhost:8080/",
          "height": 472
        },
        "id": "5kfQBqGtgAsW",
        "outputId": "68d41191-a57f-4003-f253-a4a35e92a947"
      },
      "execution_count": 101,
      "outputs": [
        {
          "output_type": "display_data",
          "data": {
            "text/plain": [
              "<Figure size 640x480 with 1 Axes>"
            ],
            "image/png": "[encoded data removed]"
          },
          "metadata": {}
        }
      ]
    },
    {
      "cell_type": "markdown",
      "source": [
        "Means:"
      ],
      "metadata": {
        "id": "VuDCMkJ9uYKL"
      }
    },
    {
      "cell_type": "code",
      "source": [
        "print(dataMax['Strongly a Jerk'].mean())\n",
        "print(dataFardina['Strongly a Jerk'].mean())"
      ],
      "metadata": {
        "colab": {
          "base_uri": "https://localhost:8080/"
        },
        "id": "fEWvHHSsuX42",
        "outputId": "e9a7c9e7-586d-42c4-df95-ddd2ca426cb8"
      },
      "execution_count": 102,
      "outputs": [
        {
          "output_type": "stream",
          "name": "stdout",
          "text": [
            "3.6236559139784945\n",
            "3.1641791044776117\n"
          ]
        }
      ]
    },
    {
      "cell_type": "markdown",
      "source": [
        "**TWO SAMPLE T-TEST**"
      ],
      "metadata": {
        "id": "1ekyw6J8hQqa"
      }
    },
    {
      "cell_type": "code",
      "source": [
        "t_stat, p_value = sp.stats.ttest_ind(dataFardina['Strongly a Jerk'], dataMax['Strongly a Jerk'])\n",
        "print(\"The p-value of the test is: {}\\n\".format(p_value))\n",
        "\n",
        "if p_value <= 0.01:\n",
        "  print(\"Reject Null hypothesis since {} <= 0.01: Therefore, the mean of answers responded \\\"Strongly a Jerk\\\" of the students in Max's dataset is NOT EQUAL to the mean of answers responded \\\"Strongly a Jerk\\\" of the students in Fardian's dataset.\".format(p_value))\n",
        "else:\n",
        "  print(\"Fail to reject the Null hypothesis since {} > 0.01: Therefore, the mean of answers responded \\\"Strongly a Jerk\\\" of the students in Max's dataset is EQUAL to the mean of answers responded \\\"Strongly a Jerk\\\" of the students in Fardian's dataset.\".format(p_value))"
      ],
      "metadata": {
        "colab": {
          "base_uri": "https://localhost:8080/"
        },
        "id": "lOPOJLTnhOTa",
        "outputId": "04183963-8c40-498b-8127-b176797383f5"
      },
      "execution_count": 103,
      "outputs": [
        {
          "output_type": "stream",
          "name": "stdout",
          "text": [
            "The p-value of the test is: 0.10145783368557042\n",
            "\n",
            "Fail to reject the Null hypothesis since 0.10145783368557042 > 0.01: Therefore, the mean of answers responded \"Strongly a Jerk\" of the students in Max's dataset is EQUAL to the mean of answers responded \"Strongly a Jerk\" of the students in Fardian's dataset.\n"
          ]
        }
      ]
    },
    {
      "cell_type": "markdown",
      "source": [
        "****"
      ],
      "metadata": {
        "id": "5_dASSigjEAf"
      }
    },
    {
      "cell_type": "markdown",
      "source": [
        "**Mildly a Jerk**"
      ],
      "metadata": {
        "id": "wLxHaqB_jHXl"
      }
    },
    {
      "cell_type": "markdown",
      "source": [
        "$N_0 = $ The mean of answers responded \"Mildly a Jerk\" of the students in Max's dataset is **EQUAL** to the mean of answers responded \"Mildly a Jerk\" of the students in Fardian's dataset.\n",
        "\n",
        "$N_A = $ The mean of answers responded \"Mildly a Jerk\" of the students in Max's dataset is **NOT EQUAL** to the mean of answers responded \"Mildly a Jerk\" of the students in Fardian's dataset."
      ],
      "metadata": {
        "id": "KSeXoDWwjRNP"
      }
    },
    {
      "cell_type": "code",
      "source": [
        "# Count the occurrences\n",
        "value_counts = dataMax['Mildly a Jerk'].value_counts().sort_index()\n",
        "values = value_counts.index.tolist()\n",
        "counts = value_counts.tolist()\n",
        "\n",
        "# Create a bar plot\n",
        "plt.bar(values, counts, color='#CBC3E3', edgecolor='black', alpha=0.7)\n",
        "plt.xlabel(\"Mildly a Jerk\")\n",
        "plt.ylabel(\"Frequency\")\n",
        "plt.title(\"Histogram of Answers Responded \\\"Mildly a Jerk\\\" of Max's Dataset\")\n",
        "plt.show()"
      ],
      "metadata": {
        "colab": {
          "base_uri": "https://localhost:8080/",
          "height": 472
        },
        "id": "7ng2kl80jXyb",
        "outputId": "1db435e2-473d-494a-f4d1-7194dacd388b"
      },
      "execution_count": 104,
      "outputs": [
        {
          "output_type": "display_data",
          "data": {
            "text/plain": [
              "<Figure size 640x480 with 1 Axes>"
            ],
            "image/png": "[encoded data removed]"
          },
          "metadata": {}
        }
      ]
    },
    {
      "cell_type": "code",
      "source": [
        "# Count the occurrences\n",
        "value_counts = dataFardina['Mildly a Jerk'].value_counts().sort_index()\n",
        "values = value_counts.index.tolist()\n",
        "counts = value_counts.tolist()\n",
        "\n",
        "# Create a bar plot\n",
        "plt.bar(values, counts, color='#3EB489', edgecolor='black', alpha=0.7)\n",
        "plt.xlabel(\"Mildly a Jerk\")\n",
        "plt.ylabel(\"Frequency\")\n",
        "plt.title(\"Histogram of Answers Responded \\\"Mildly a Jerk\\\" of Fardina's Dataset\")\n",
        "plt.show()"
      ],
      "metadata": {
        "colab": {
          "base_uri": "https://localhost:8080/",
          "height": 472
        },
        "id": "Ukcd7Amzjf6H",
        "outputId": "f199ae2b-cbae-4fdd-d942-489e155379b6"
      },
      "execution_count": 105,
      "outputs": [
        {
          "output_type": "display_data",
          "data": {
            "text/plain": [
              "<Figure size 640x480 with 1 Axes>"
            ],
            "image/png": "[encoded data removed]"
          },
          "metadata": {}
        }
      ]
    },
    {
      "cell_type": "markdown",
      "source": [
        "Means:"
      ],
      "metadata": {
        "id": "wmJG72f2ug9T"
      }
    },
    {
      "cell_type": "code",
      "source": [
        "print(dataMax['Mildly a Jerk'].mean())\n",
        "print(dataFardina['Mildly a Jerk'].mean())"
      ],
      "metadata": {
        "colab": {
          "base_uri": "https://localhost:8080/"
        },
        "id": "W3GWdc-YuiUQ",
        "outputId": "cc96be9b-2583-428d-83a9-79b9340f2c1b"
      },
      "execution_count": 106,
      "outputs": [
        {
          "output_type": "stream",
          "name": "stdout",
          "text": [
            "4.43010752688172\n",
            "5.022388059701493\n"
          ]
        }
      ]
    },
    {
      "cell_type": "markdown",
      "source": [
        "**TWO SAMPLE T-TEST**"
      ],
      "metadata": {
        "id": "Fmc7kZpcjpLs"
      }
    },
    {
      "cell_type": "code",
      "source": [
        "t_stat, p_value = sp.stats.ttest_ind(dataFardina['Mildly a Jerk'], dataMax['Mildly a Jerk'])\n",
        "\n",
        "print(\"The p-value of the test is: {}\\n\".format(p_value))\n",
        "\n",
        "if p_value <= 0.01:\n",
        "  print(\"Reject Null hypothesis since {} <= 0.01: Therefore, the mean of answers responded \\\"Mildly a Jerk\\\" of the students in Max's dataset is NOT EQUAL to the mean of answers responded \\\"Mildly a Jerk\\\" of the students in Fardian's dataset.\".format(p_value))\n",
        "else:\n",
        "  print(\"Fail to reject the Null hypothesis since {} > 0.01: Therefore, the mean of answers responded \\\"Mildly a Jerk\\\" of the students in Max's dataset is EQUAL to the mean of answers responded \\\"Mildly a Jerk\\\" of the students in Fardian's dataset.\".format(p_value))\n"
      ],
      "metadata": {
        "colab": {
          "base_uri": "https://localhost:8080/"
        },
        "id": "PQRBqydXjoIa",
        "outputId": "77d0eaae-a3e9-4b17-9a38-bce49b91753b"
      },
      "execution_count": 107,
      "outputs": [
        {
          "output_type": "stream",
          "name": "stdout",
          "text": [
            "The p-value of the test is: 0.051412829701015024\n",
            "\n",
            "Fail to reject the Null hypothesis since 0.051412829701015024 > 0.01: Therefore, the mean of answers responded \"Mildly a Jerk\" of the students in Max's dataset is EQUAL to the mean of answers responded \"Mildly a Jerk\" of the students in Fardian's dataset.\n"
          ]
        }
      ]
    },
    {
      "cell_type": "markdown",
      "source": [
        "****"
      ],
      "metadata": {
        "id": "Cy8aDOXmkIrY"
      }
    },
    {
      "cell_type": "markdown",
      "source": [
        "**Not a Jerk**"
      ],
      "metadata": {
        "id": "xca3ueF0kLIR"
      }
    },
    {
      "cell_type": "markdown",
      "source": [
        "$N_0 = $ The mean of answers responded \"Not a Jerk\" of the students in Max's dataset is **EQUAL** to the mean of answers responded \"Not a Jerk\" of the students in Fardian's dataset.\n",
        "\n",
        "$N_A = $ The mean of answers responded \"Not a Jerk\" of the students in Max's dataset is **NOT EQUAL** to the mean of answers responded \"Not a Jerk\" of the students in Fardian's dataset."
      ],
      "metadata": {
        "id": "i2SHYPOukZFY"
      }
    },
    {
      "cell_type": "code",
      "source": [
        "# Count the occurrences\n",
        "value_counts = dataMax['Not a Jerk'].value_counts().sort_index()\n",
        "values = value_counts.index.tolist()\n",
        "counts = value_counts.tolist()\n",
        "\n",
        "# Create a bar plot\n",
        "plt.bar(values, counts, color='#CBC3E3', edgecolor='black', alpha=0.7)\n",
        "plt.xlabel(\"Not a Jerk\")\n",
        "plt.ylabel(\"Frequency\")\n",
        "plt.title(\"Histogram of Answers Responded \\\"Not a Jerk\\\" of Max's Dataset\")\n",
        "plt.show()"
      ],
      "metadata": {
        "colab": {
          "base_uri": "https://localhost:8080/",
          "height": 472
        },
        "id": "dSQOYEA4lBBk",
        "outputId": "1f227d0c-1ecd-403e-a0f3-3fd6c8693e7f"
      },
      "execution_count": 108,
      "outputs": [
        {
          "output_type": "display_data",
          "data": {
            "text/plain": [
              "<Figure size 640x480 with 1 Axes>"
            ],
            "image/png": "[encoded data removed]"
          },
          "metadata": {}
        }
      ]
    },
    {
      "cell_type": "code",
      "source": [
        "# Count the occurrences\n",
        "value_counts = dataFardina['Not a Jerk'].value_counts().sort_index()\n",
        "values = value_counts.index.tolist()\n",
        "counts = value_counts.tolist()\n",
        "\n",
        "# Create a bar plot\n",
        "plt.bar(values, counts, color='#3EB489', edgecolor='black', alpha=0.7)\n",
        "plt.xlabel(\"Not a Jerk\")\n",
        "plt.ylabel(\"Frequency\")\n",
        "plt.title(\"Histogram of Answers Responded \\\"Not a Jerk\\\" of Fardina's Dataset\")\n",
        "plt.show()"
      ],
      "metadata": {
        "colab": {
          "base_uri": "https://localhost:8080/",
          "height": 472
        },
        "id": "jWEpUxYdlY0Z",
        "outputId": "df1bfee8-4d18-4400-f072-d421079accd3"
      },
      "execution_count": 109,
      "outputs": [
        {
          "output_type": "display_data",
          "data": {
            "text/plain": [
              "<Figure size 640x480 with 1 Axes>"
            ],
            "image/png": "[encoded data removed]"
          },
          "metadata": {}
        }
      ]
    },
    {
      "cell_type": "markdown",
      "source": [
        "Means:"
      ],
      "metadata": {
        "id": "zhjw0cCouojD"
      }
    },
    {
      "cell_type": "code",
      "source": [
        "print(dataMax['Not a Jerk'].mean())\n",
        "print(dataFardina['Not a Jerk'].mean())"
      ],
      "metadata": {
        "colab": {
          "base_uri": "https://localhost:8080/"
        },
        "id": "f9kO9KkBurM4",
        "outputId": "950ef8e1-06ba-4869-9ac6-b1ffcff94097"
      },
      "execution_count": 110,
      "outputs": [
        {
          "output_type": "stream",
          "name": "stdout",
          "text": [
            "5.946236559139785\n",
            "5.813432835820896\n"
          ]
        }
      ]
    },
    {
      "cell_type": "markdown",
      "source": [
        "**TWO SAMPLE T-TEST**"
      ],
      "metadata": {
        "id": "z3kR6TJilfdn"
      }
    },
    {
      "cell_type": "code",
      "source": [
        "t_stat, p_value = sp.stats.ttest_ind(dataFardina['Not a Jerk'], dataMax['Not a Jerk'])\n",
        "\n",
        "print(\"The p-value of the test is: {}\\n\".format(p_value))\n",
        "\n",
        "if p_value <= 0.01:\n",
        "  print(\"Reject Null hypothesis since {} <= 0.01: Therefore, the mean of answers responded \\\"Not a Jerk\\\" of the students in Max's dataset is NOT EQUAL to the mean of answers responded \\\"Not a Jerk\\\" of the students in Fardian's dataset.\".format(p_value))\n",
        "else:\n",
        "  print(\"Fail to reject the Null hypothesis since {} > 0.01: Therefore, the mean of answers responded \\\"Not a Jerk\\\" of the students in Max's dataset is EQUAL to the mean of answers responded \\\"Not a Jerk\\\" of the students in Fardian's dataset.\".format(p_value))\n"
      ],
      "metadata": {
        "colab": {
          "base_uri": "https://localhost:8080/"
        },
        "id": "I85FEXJwli0v",
        "outputId": "25b93ab0-fe0e-41c0-c1b0-fec4d4b2a015"
      },
      "execution_count": 111,
      "outputs": [
        {
          "output_type": "stream",
          "name": "stdout",
          "text": [
            "The p-value of the test is: 0.6530301495440829\n",
            "\n",
            "Fail to reject the Null hypothesis since 0.6530301495440829 > 0.01: Therefore, the mean of answers responded \"Not a Jerk\" of the students in Max's dataset is EQUAL to the mean of answers responded \"Not a Jerk\" of the students in Fardian's dataset.\n"
          ]
        }
      ]
    }
  ]
}